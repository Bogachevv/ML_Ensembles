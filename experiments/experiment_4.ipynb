{
 "cells": [
  {
   "cell_type": "code",
   "execution_count": 1,
   "id": "initial_id",
   "metadata": {
    "collapsed": true,
    "ExecuteTime": {
     "end_time": "2023-12-19T14:59:54.037867400Z",
     "start_time": "2023-12-19T14:59:53.922955700Z"
    }
   },
   "outputs": [],
   "source": [
    "import pathlib\n",
    "import pickle\n",
    "import numpy as np\n",
    "import scipy\n",
    "import seaborn as sns\n",
    "import matplotlib\n",
    "import matplotlib.pyplot as plt\n",
    "import pandas as pd\n",
    "from sklearn.model_selection import train_test_split\n",
    "from sklearn.metrics import mean_squared_error, r2_score\n",
    "from sklearn.pipeline import Pipeline\n",
    "from sklearn.preprocessing import StandardScaler\n",
    "from sklearn.linear_model import Ridge\n",
    "from sklearn.svm import SVR, LinearSVR\n",
    "from tqdm import tqdm\n",
    "\n",
    "import importlib"
   ]
  },
  {
   "cell_type": "code",
   "execution_count": 2,
   "outputs": [
    {
     "data": {
      "text/plain": "<module 'ensembles' from 'C:\\\\Users\\\\Vladimir\\\\PycharmProjects\\\\ML_Ensembles\\\\experiments\\\\ensembles\\\\__init__.py'>"
     },
     "execution_count": 2,
     "metadata": {},
     "output_type": "execute_result"
    }
   ],
   "source": [
    "import ensembles\n",
    "\n",
    "importlib.reload(ensembles)"
   ],
   "metadata": {
    "collapsed": false,
    "ExecuteTime": {
     "end_time": "2023-12-19T14:59:54.067218500Z",
     "start_time": "2023-12-19T14:59:54.039615800Z"
    }
   },
   "id": "4847e78a331b7145"
  },
  {
   "cell_type": "code",
   "execution_count": 3,
   "outputs": [
    {
     "data": {
      "text/plain": "           id             date     price  bedrooms  bathrooms  sqft_living  \\\n0  7129300520  20141013T000000  221900.0         3       1.00         1180   \n1  6414100192  20141209T000000  538000.0         3       2.25         2570   \n2  5631500400  20150225T000000  180000.0         2       1.00          770   \n3  2487200875  20141209T000000  604000.0         4       3.00         1960   \n4  1954400510  20150218T000000  510000.0         3       2.00         1680   \n\n   sqft_lot  floors  waterfront  view  ...  grade  sqft_above  sqft_basement  \\\n0      5650     1.0           0     0  ...      7        1180              0   \n1      7242     2.0           0     0  ...      7        2170            400   \n2     10000     1.0           0     0  ...      6         770              0   \n3      5000     1.0           0     0  ...      7        1050            910   \n4      8080     1.0           0     0  ...      8        1680              0   \n\n   yr_built  yr_renovated  zipcode      lat     long  sqft_living15  \\\n0      1955             0    98178  47.5112 -122.257           1340   \n1      1951          1991    98125  47.7210 -122.319           1690   \n2      1933             0    98028  47.7379 -122.233           2720   \n3      1965             0    98136  47.5208 -122.393           1360   \n4      1987             0    98074  47.6168 -122.045           1800   \n\n   sqft_lot15  \n0        5650  \n1        7639  \n2        8062  \n3        5000  \n4        7503  \n\n[5 rows x 21 columns]",
      "text/html": "<div>\n<style scoped>\n    .dataframe tbody tr th:only-of-type {\n        vertical-align: middle;\n    }\n\n    .dataframe tbody tr th {\n        vertical-align: top;\n    }\n\n    .dataframe thead th {\n        text-align: right;\n    }\n</style>\n<table border=\"1\" class=\"dataframe\">\n  <thead>\n    <tr style=\"text-align: right;\">\n      <th></th>\n      <th>id</th>\n      <th>date</th>\n      <th>price</th>\n      <th>bedrooms</th>\n      <th>bathrooms</th>\n      <th>sqft_living</th>\n      <th>sqft_lot</th>\n      <th>floors</th>\n      <th>waterfront</th>\n      <th>view</th>\n      <th>...</th>\n      <th>grade</th>\n      <th>sqft_above</th>\n      <th>sqft_basement</th>\n      <th>yr_built</th>\n      <th>yr_renovated</th>\n      <th>zipcode</th>\n      <th>lat</th>\n      <th>long</th>\n      <th>sqft_living15</th>\n      <th>sqft_lot15</th>\n    </tr>\n  </thead>\n  <tbody>\n    <tr>\n      <th>0</th>\n      <td>7129300520</td>\n      <td>20141013T000000</td>\n      <td>221900.0</td>\n      <td>3</td>\n      <td>1.00</td>\n      <td>1180</td>\n      <td>5650</td>\n      <td>1.0</td>\n      <td>0</td>\n      <td>0</td>\n      <td>...</td>\n      <td>7</td>\n      <td>1180</td>\n      <td>0</td>\n      <td>1955</td>\n      <td>0</td>\n      <td>98178</td>\n      <td>47.5112</td>\n      <td>-122.257</td>\n      <td>1340</td>\n      <td>5650</td>\n    </tr>\n    <tr>\n      <th>1</th>\n      <td>6414100192</td>\n      <td>20141209T000000</td>\n      <td>538000.0</td>\n      <td>3</td>\n      <td>2.25</td>\n      <td>2570</td>\n      <td>7242</td>\n      <td>2.0</td>\n      <td>0</td>\n      <td>0</td>\n      <td>...</td>\n      <td>7</td>\n      <td>2170</td>\n      <td>400</td>\n      <td>1951</td>\n      <td>1991</td>\n      <td>98125</td>\n      <td>47.7210</td>\n      <td>-122.319</td>\n      <td>1690</td>\n      <td>7639</td>\n    </tr>\n    <tr>\n      <th>2</th>\n      <td>5631500400</td>\n      <td>20150225T000000</td>\n      <td>180000.0</td>\n      <td>2</td>\n      <td>1.00</td>\n      <td>770</td>\n      <td>10000</td>\n      <td>1.0</td>\n      <td>0</td>\n      <td>0</td>\n      <td>...</td>\n      <td>6</td>\n      <td>770</td>\n      <td>0</td>\n      <td>1933</td>\n      <td>0</td>\n      <td>98028</td>\n      <td>47.7379</td>\n      <td>-122.233</td>\n      <td>2720</td>\n      <td>8062</td>\n    </tr>\n    <tr>\n      <th>3</th>\n      <td>2487200875</td>\n      <td>20141209T000000</td>\n      <td>604000.0</td>\n      <td>4</td>\n      <td>3.00</td>\n      <td>1960</td>\n      <td>5000</td>\n      <td>1.0</td>\n      <td>0</td>\n      <td>0</td>\n      <td>...</td>\n      <td>7</td>\n      <td>1050</td>\n      <td>910</td>\n      <td>1965</td>\n      <td>0</td>\n      <td>98136</td>\n      <td>47.5208</td>\n      <td>-122.393</td>\n      <td>1360</td>\n      <td>5000</td>\n    </tr>\n    <tr>\n      <th>4</th>\n      <td>1954400510</td>\n      <td>20150218T000000</td>\n      <td>510000.0</td>\n      <td>3</td>\n      <td>2.00</td>\n      <td>1680</td>\n      <td>8080</td>\n      <td>1.0</td>\n      <td>0</td>\n      <td>0</td>\n      <td>...</td>\n      <td>8</td>\n      <td>1680</td>\n      <td>0</td>\n      <td>1987</td>\n      <td>0</td>\n      <td>98074</td>\n      <td>47.6168</td>\n      <td>-122.045</td>\n      <td>1800</td>\n      <td>7503</td>\n    </tr>\n  </tbody>\n</table>\n<p>5 rows × 21 columns</p>\n</div>"
     },
     "execution_count": 3,
     "metadata": {},
     "output_type": "execute_result"
    }
   ],
   "source": [
    "data = pd.read_csv('kc_house_data.csv')\n",
    "\n",
    "data.head()"
   ],
   "metadata": {
    "collapsed": false,
    "ExecuteTime": {
     "end_time": "2023-12-19T14:59:54.162638600Z",
     "start_time": "2023-12-19T14:59:54.065217500Z"
    }
   },
   "id": "533f78dd6e384114"
  },
  {
   "cell_type": "code",
   "execution_count": 4,
   "outputs": [
    {
     "data": {
      "text/plain": "                  date  bedrooms  bathrooms  sqft_living  sqft_lot  floors  \\\n0  1413158400000000000         3       1.00         1180      5650     1.0   \n1  1418083200000000000         3       2.25         2570      7242     2.0   \n2  1424822400000000000         2       1.00          770     10000     1.0   \n3  1418083200000000000         4       3.00         1960      5000     1.0   \n4  1424217600000000000         3       2.00         1680      8080     1.0   \n\n   waterfront  view  condition  grade  sqft_above  sqft_basement  yr_built  \\\n0           0     0          3      7        1180              0      1955   \n1           0     0          3      7        2170            400      1951   \n2           0     0          3      6         770              0      1933   \n3           0     0          5      7        1050            910      1965   \n4           0     0          3      8        1680              0      1987   \n\n   yr_renovated  zipcode      lat     long  sqft_living15  sqft_lot15  \n0             0    98178  47.5112 -122.257           1340        5650  \n1          1991    98125  47.7210 -122.319           1690        7639  \n2             0    98028  47.7379 -122.233           2720        8062  \n3             0    98136  47.5208 -122.393           1360        5000  \n4             0    98074  47.6168 -122.045           1800        7503  ",
      "text/html": "<div>\n<style scoped>\n    .dataframe tbody tr th:only-of-type {\n        vertical-align: middle;\n    }\n\n    .dataframe tbody tr th {\n        vertical-align: top;\n    }\n\n    .dataframe thead th {\n        text-align: right;\n    }\n</style>\n<table border=\"1\" class=\"dataframe\">\n  <thead>\n    <tr style=\"text-align: right;\">\n      <th></th>\n      <th>date</th>\n      <th>bedrooms</th>\n      <th>bathrooms</th>\n      <th>sqft_living</th>\n      <th>sqft_lot</th>\n      <th>floors</th>\n      <th>waterfront</th>\n      <th>view</th>\n      <th>condition</th>\n      <th>grade</th>\n      <th>sqft_above</th>\n      <th>sqft_basement</th>\n      <th>yr_built</th>\n      <th>yr_renovated</th>\n      <th>zipcode</th>\n      <th>lat</th>\n      <th>long</th>\n      <th>sqft_living15</th>\n      <th>sqft_lot15</th>\n    </tr>\n  </thead>\n  <tbody>\n    <tr>\n      <th>0</th>\n      <td>1413158400000000000</td>\n      <td>3</td>\n      <td>1.00</td>\n      <td>1180</td>\n      <td>5650</td>\n      <td>1.0</td>\n      <td>0</td>\n      <td>0</td>\n      <td>3</td>\n      <td>7</td>\n      <td>1180</td>\n      <td>0</td>\n      <td>1955</td>\n      <td>0</td>\n      <td>98178</td>\n      <td>47.5112</td>\n      <td>-122.257</td>\n      <td>1340</td>\n      <td>5650</td>\n    </tr>\n    <tr>\n      <th>1</th>\n      <td>1418083200000000000</td>\n      <td>3</td>\n      <td>2.25</td>\n      <td>2570</td>\n      <td>7242</td>\n      <td>2.0</td>\n      <td>0</td>\n      <td>0</td>\n      <td>3</td>\n      <td>7</td>\n      <td>2170</td>\n      <td>400</td>\n      <td>1951</td>\n      <td>1991</td>\n      <td>98125</td>\n      <td>47.7210</td>\n      <td>-122.319</td>\n      <td>1690</td>\n      <td>7639</td>\n    </tr>\n    <tr>\n      <th>2</th>\n      <td>1424822400000000000</td>\n      <td>2</td>\n      <td>1.00</td>\n      <td>770</td>\n      <td>10000</td>\n      <td>1.0</td>\n      <td>0</td>\n      <td>0</td>\n      <td>3</td>\n      <td>6</td>\n      <td>770</td>\n      <td>0</td>\n      <td>1933</td>\n      <td>0</td>\n      <td>98028</td>\n      <td>47.7379</td>\n      <td>-122.233</td>\n      <td>2720</td>\n      <td>8062</td>\n    </tr>\n    <tr>\n      <th>3</th>\n      <td>1418083200000000000</td>\n      <td>4</td>\n      <td>3.00</td>\n      <td>1960</td>\n      <td>5000</td>\n      <td>1.0</td>\n      <td>0</td>\n      <td>0</td>\n      <td>5</td>\n      <td>7</td>\n      <td>1050</td>\n      <td>910</td>\n      <td>1965</td>\n      <td>0</td>\n      <td>98136</td>\n      <td>47.5208</td>\n      <td>-122.393</td>\n      <td>1360</td>\n      <td>5000</td>\n    </tr>\n    <tr>\n      <th>4</th>\n      <td>1424217600000000000</td>\n      <td>3</td>\n      <td>2.00</td>\n      <td>1680</td>\n      <td>8080</td>\n      <td>1.0</td>\n      <td>0</td>\n      <td>0</td>\n      <td>3</td>\n      <td>8</td>\n      <td>1680</td>\n      <td>0</td>\n      <td>1987</td>\n      <td>0</td>\n      <td>98074</td>\n      <td>47.6168</td>\n      <td>-122.045</td>\n      <td>1800</td>\n      <td>7503</td>\n    </tr>\n  </tbody>\n</table>\n</div>"
     },
     "execution_count": 4,
     "metadata": {},
     "output_type": "execute_result"
    }
   ],
   "source": [
    "y = data.price.to_numpy()\n",
    "X = data.drop(columns=['price'])\n",
    "X['date'] = pd.to_datetime(X.date.apply(lambda s: f\"{s[0:4]}-{s[4:6]}-{s[6:8]}\")).apply(lambda dt: dt.value)\n",
    "X.drop(columns='id', inplace=True)\n",
    "\n",
    "X.head()"
   ],
   "metadata": {
    "collapsed": false,
    "ExecuteTime": {
     "end_time": "2023-12-19T14:59:54.228401500Z",
     "start_time": "2023-12-19T14:59:54.156638600Z"
    }
   },
   "id": "f087a695bb2782ad"
  },
  {
   "cell_type": "code",
   "execution_count": 5,
   "outputs": [
    {
     "name": "stdout",
     "output_type": "stream",
     "text": [
      "X_train.shape=(17290, 19)\n",
      "X_test.shape=(4323, 19)\n"
     ]
    }
   ],
   "source": [
    "X = X.to_numpy()\n",
    "X_train, X_test, y_train, y_test = train_test_split(X, y, test_size=0.2, random_state=42, shuffle=True)\n",
    "\n",
    "print(f\"{X_train.shape=}\")\n",
    "print(f\"{X_test.shape=}\")"
   ],
   "metadata": {
    "collapsed": false,
    "ExecuteTime": {
     "end_time": "2023-12-19T14:59:54.237236700Z",
     "start_time": "2023-12-19T14:59:54.198162800Z"
    }
   },
   "id": "bcd76e9757a41322"
  },
  {
   "cell_type": "code",
   "execution_count": 6,
   "outputs": [
    {
     "data": {
      "text/plain": "array([[ 1.4011488e+18,  3.0000000e+00,  1.7500000e+00, ...,\n        -1.2215200e+02,  2.7500000e+03,  1.3095000e+04],\n       [ 1.4259456e+18,  2.0000000e+00,  1.0000000e+00, ...,\n        -1.2229000e+02,  1.2700000e+03,  5.0000000e+03],\n       [ 1.4249088e+18,  3.0000000e+00,  1.0000000e+00, ...,\n        -1.2233500e+02,  1.1700000e+03,  7.8000000e+03],\n       ...,\n       [ 1.4120352e+18,  3.0000000e+00,  2.5000000e+00, ...,\n        -1.2203200e+02,  1.6900000e+03,  2.6500000e+03],\n       [ 1.4032224e+18,  1.0000000e+00,  7.5000000e-01, ...,\n        -1.2232300e+02,  1.1700000e+03,  1.5000000e+04],\n       [ 1.4272416e+18,  4.0000000e+00,  2.5000000e+00, ...,\n        -1.2209900e+02,  3.0200000e+03,  5.9970000e+03]])"
     },
     "execution_count": 6,
     "metadata": {},
     "output_type": "execute_result"
    }
   ],
   "source": [
    "X_train"
   ],
   "metadata": {
    "collapsed": false,
    "ExecuteTime": {
     "end_time": "2023-12-19T14:59:54.237236700Z",
     "start_time": "2023-12-19T14:59:54.207139900Z"
    }
   },
   "id": "ed6e41d976204734"
  },
  {
   "cell_type": "code",
   "execution_count": 21,
   "outputs": [
    {
     "name": "stdout",
     "output_type": "stream",
     "text": [
      "RMSE: 156860\n",
      "r^2: 0.8372\n"
     ]
    }
   ],
   "source": [
    "rf = ensembles.RandomForestMSE(\n",
    "    n_estimators=250,\n",
    "    feature_subsample_size=6,\n",
    "    random_state=42,\n",
    "    max_depth=None,\n",
    ")\n",
    "\n",
    "rf.fit(X_train, y_train)\n",
    "rf_pred = rf.predict(X_test)\n",
    "\n",
    "print(f\"RMSE: {mean_squared_error(y_true=y_test, y_pred=rf_pred) ** 0.5:.0f}\")\n",
    "print(f\"r^2: {r2_score(y_true=y_test, y_pred=rf_pred):.4f}\")"
   ],
   "metadata": {
    "collapsed": false,
    "ExecuteTime": {
     "end_time": "2023-12-19T16:36:49.694635800Z",
     "start_time": "2023-12-19T16:36:41.407676Z"
    }
   },
   "id": "822490d94dedbdf7"
  },
  {
   "cell_type": "code",
   "execution_count": 17,
   "outputs": [
    {
     "name": "stdout",
     "output_type": "stream",
     "text": [
      "MSE: 137418\n",
      "r^2: 0.8751\n"
     ]
    }
   ],
   "source": [
    "boosting = ensembles.GradientBoostingMSE(\n",
    "    n_estimators=250,\n",
    "    feature_subsample_size=6,\n",
    "    random_state=42,\n",
    "    max_depth=7,\n",
    "    learning_rate=0.05\n",
    ")\n",
    "\n",
    "boosting.fit(X_train, y_train)\n",
    "boosting_predict = boosting.predict(X_test)\n",
    "\n",
    "print(f\"RMSE: {mean_squared_error(y_true=y_test, y_pred=boosting_predict) ** 0.5:.0f}\")\n",
    "print(f\"r^2: {r2_score(y_true=y_test, y_pred=boosting_predict):.4f}\")"
   ],
   "metadata": {
    "collapsed": false,
    "ExecuteTime": {
     "end_time": "2023-12-19T16:34:09.529130Z",
     "start_time": "2023-12-19T16:34:01.791417900Z"
    }
   },
   "id": "e174cc5fb3aaba3a"
  },
  {
   "cell_type": "code",
   "execution_count": 19,
   "outputs": [
    {
     "name": "stdout",
     "output_type": "stream",
     "text": [
      "MSE: 212120\n",
      "r^2: 0.7024\n"
     ]
    }
   ],
   "source": [
    "ridge = Pipeline([\n",
    "    ('scale', StandardScaler()),\n",
    "    ('regression', Ridge(alpha=0.01))\n",
    "])\n",
    "\n",
    "ridge.fit(X_train, y_train)\n",
    "ridge_predict = ridge.predict(X_test)\n",
    "\n",
    "print(f\"RMSE: {mean_squared_error(y_true=y_test, y_pred=ridge_predict) ** 0.5:.0f}\")\n",
    "print(f\"r^2: {r2_score(y_true=y_test, y_pred=ridge_predict):.4f}\")"
   ],
   "metadata": {
    "collapsed": false,
    "ExecuteTime": {
     "end_time": "2023-12-19T16:35:19.813241100Z",
     "start_time": "2023-12-19T16:35:19.802241500Z"
    }
   },
   "id": "bc6667b5a13ce7e5"
  },
  {
   "cell_type": "code",
   "execution_count": 20,
   "outputs": [
    {
     "name": "stdout",
     "output_type": "stream",
     "text": [
      "MSE: 230030\n",
      "r^2: 0.6500\n"
     ]
    }
   ],
   "source": [
    "svm = Pipeline([\n",
    "    ('scale', StandardScaler()),\n",
    "    ('regression', SVR(kernel='linear', C=1e4))\n",
    "])\n",
    "\n",
    "svm.fit(X_train, y_train)\n",
    "svm_predict = svm.predict(X_test)\n",
    "\n",
    "print(f\"RMSE: {mean_squared_error(y_true=y_test, y_pred=svm_predict) ** 0.5:.0f}\")\n",
    "print(f\"r^2: {r2_score(y_true=y_test, y_pred=svm_predict):.4f}\")"
   ],
   "metadata": {
    "collapsed": false,
    "ExecuteTime": {
     "end_time": "2023-12-19T16:35:32.807768900Z",
     "start_time": "2023-12-19T16:35:24.013320400Z"
    }
   },
   "id": "f6cc6fd58da5e88e"
  },
  {
   "cell_type": "markdown",
   "source": [
    "Реализация метода для оценки разложения среднего эмпирического риска на шум, смещение и разброс"
   ],
   "metadata": {
    "collapsed": false
   },
   "id": "80f79a09fe2b48eb"
  },
  {
   "cell_type": "code",
   "execution_count": 11,
   "outputs": [],
   "source": [
    "def compute_biase_variance(regressor, X, y, num_runs=1000):\n",
    "    \"\"\"\n",
    "    :param regressor: sklearn estimator with fit(...) and predict(...) method\n",
    "    :param X: numpy-array representing training set ob objects, shape [n_obj, n_feat]\n",
    "    :param y: numpy-array representing target for training objects, shape [n_obj]\n",
    "    :param num_runs: int, number of samples (s in the description of the algorithm)\n",
    "\n",
    "    :returns: bias (float), variance (float), error (float)\n",
    "    each value is computed using bootstrap\n",
    "    \"\"\"\n",
    "    \n",
    "    T = np.full((num_runs, X.shape[0]), np.nan, dtype=float)\n",
    "    \n",
    "    for run in tqdm(range(num_runs)):\n",
    "        tr_idx = np.random.choice(X.shape[0], size=X.shape[0], replace=True)\n",
    "        tst_idx = ~np.any((tr_idx[:, None] == np.arange(X.shape[0])[None, :]), axis=0)\n",
    "        # print(tst_idx, f\"{np.sum(tst_idx)/X.shape[0]:.2f}\")\n",
    "        \n",
    "        X_tr = X[tr_idx]\n",
    "        y_tr = y[tr_idx]\n",
    "        \n",
    "        X_tst = X[tst_idx]\n",
    "        # y_tst = y[tst_idx]\n",
    "        \n",
    "        regressor.fit(X_tr, y_tr)\n",
    "        \n",
    "        y_pred = regressor.predict(X_tst)\n",
    "        T[run, tst_idx] = y_pred\n",
    "    \n",
    "    # print(T)\n",
    "    \n",
    "    error = np.nanmean((T - y[None, :]) ** 2)\n",
    "    bias = np.nanmean((np.nanmean(T, axis=0) - y) ** 2)\n",
    "    variance = np.nanmean(\n",
    "        np.nanmean(\n",
    "            (T - np.nanmean(T, axis=0)[None, :]) ** 2,\n",
    "            axis=0\n",
    "        )\n",
    "    )\n",
    "    \n",
    "    return bias, variance, error"
   ],
   "metadata": {
    "collapsed": false,
    "ExecuteTime": {
     "end_time": "2023-12-19T15:00:18.901396200Z",
     "start_time": "2023-12-19T15:00:18.896964700Z"
    }
   },
   "id": "24e7cc9bd81f53d5"
  },
  {
   "cell_type": "markdown",
   "source": [
    "Оценка BV-decomposition для моделей"
   ],
   "metadata": {
    "collapsed": false
   },
   "id": "79e8827df5a29257"
  },
  {
   "cell_type": "code",
   "execution_count": 12,
   "outputs": [
    {
     "name": "stderr",
     "output_type": "stream",
     "text": [
      "100%|██████████| 100/100 [14:20<00:00,  8.60s/it]\n",
      "100%|██████████| 100/100 [14:25<00:00,  8.65s/it]\n",
      "100%|██████████| 100/100 [00:11<00:00,  8.85it/s]\n",
      "100%|██████████| 100/100 [23:35<00:00, 14.15s/it]\n"
     ]
    }
   ],
   "source": [
    "rf_bvd = compute_biase_variance(rf, X, y, num_runs=100)\n",
    "boosting_bvd = compute_biase_variance(boosting, X, y, num_runs=100)\n",
    "ridge_bvd = compute_biase_variance(ridge, X, y, num_runs=100)\n",
    "svm_bvd = compute_biase_variance(svm, X, y, num_runs=100)"
   ],
   "metadata": {
    "collapsed": false,
    "ExecuteTime": {
     "end_time": "2023-12-19T15:52:51.071038800Z",
     "start_time": "2023-12-19T15:00:18.901396200Z"
    }
   },
   "id": "64051ef053828c16"
  },
  {
   "cell_type": "code",
   "execution_count": 18,
   "outputs": [],
   "source": [
    "path = pathlib.Path('./dumps/compare_bvd.pkl')\n",
    "\n",
    "with open(path, \"wb\") as f:\n",
    "    pickle.dump((rf_bvd, boosting_bvd, ridge_bvd, svm_bvd), file=f)"
   ],
   "metadata": {
    "collapsed": false,
    "ExecuteTime": {
     "end_time": "2023-12-19T16:35:02.841163200Z",
     "start_time": "2023-12-19T16:35:02.830387200Z"
    }
   },
   "id": "755f933a8d84ba3b"
  },
  {
   "cell_type": "code",
   "execution_count": 13,
   "outputs": [],
   "source": [
    "max_bias = max(rf_bvd[0], boosting_bvd[0], ridge_bvd[0], svm_bvd[0])\n",
    "max_variance = max(rf_bvd[1], boosting_bvd[1], ridge_bvd[1], svm_bvd[1])\n",
    "max_error = max(rf_bvd[2], boosting_bvd[2], ridge_bvd[2], svm_bvd[2])"
   ],
   "metadata": {
    "collapsed": false,
    "ExecuteTime": {
     "end_time": "2023-12-19T15:52:51.072037600Z",
     "start_time": "2023-12-19T15:52:51.068651100Z"
    }
   },
   "id": "c245339b7c90eafb"
  },
  {
   "cell_type": "code",
   "execution_count": 15,
   "outputs": [
    {
     "name": "stdout",
     "output_type": "stream",
     "text": [
      "Random forest:\n",
      "\tbias = 0.4201\t\tvariance = 0.6041\t\terror = 0.4444\n",
      "\n",
      "Gradient boosting:\n",
      "\tbias = 0.3071\t\tvariance = 1.0000\t\terror = 0.3360\n",
      "\n",
      "Ridge:\n",
      "\tbias = 0.8744\t\tvariance = 0.0924\t\terror = 0.8783\n",
      "\n",
      "SVM:\n",
      "\tbias = 1.0000\t\tvariance = 0.0540\t\terror = 1.0000\n"
     ]
    }
   ],
   "source": [
    "for method_nm, method_rs in zip(['Random forest', 'Gradient boosting', 'Ridge', 'SVM'], [rf_bvd, boosting_bvd, ridge_bvd, svm_bvd]):\n",
    "  bias, variance, error = method_rs\n",
    "  print(f\"{method_nm}:\")\n",
    "  print(f\"\\tbias = {bias / max_bias:.4f}\\t\\tvariance = {variance / max_variance:.4f}\\t\\terror = {error / max_error:.4f}\")\n",
    "  print()"
   ],
   "metadata": {
    "collapsed": false,
    "ExecuteTime": {
     "end_time": "2023-12-19T15:52:59.783545700Z",
     "start_time": "2023-12-19T15:52:59.777029600Z"
    }
   },
   "id": "f7ac43f2f5383471"
  },
  {
   "cell_type": "code",
   "execution_count": 14,
   "outputs": [],
   "source": [],
   "metadata": {
    "collapsed": false,
    "ExecuteTime": {
     "end_time": "2023-12-19T15:52:51.077745800Z",
     "start_time": "2023-12-19T15:52:51.076232200Z"
    }
   },
   "id": "1b1bc066a4969af9"
  }
 ],
 "metadata": {
  "kernelspec": {
   "display_name": "Python 3",
   "language": "python",
   "name": "python3"
  },
  "language_info": {
   "codemirror_mode": {
    "name": "ipython",
    "version": 2
   },
   "file_extension": ".py",
   "mimetype": "text/x-python",
   "name": "python",
   "nbconvert_exporter": "python",
   "pygments_lexer": "ipython2",
   "version": "2.7.6"
  }
 },
 "nbformat": 4,
 "nbformat_minor": 5
}
