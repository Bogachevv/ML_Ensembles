{
 "cells": [
  {
   "cell_type": "code",
   "execution_count": 72,
   "id": "initial_id",
   "metadata": {
    "collapsed": true,
    "ExecuteTime": {
     "end_time": "2023-11-27T20:16:14.817356860Z",
     "start_time": "2023-11-27T20:16:14.815628973Z"
    }
   },
   "outputs": [],
   "source": [
    "import numpy as np\n",
    "from scipy.optimize import minimize_scalar\n",
    "from sklearn.tree import DecisionTreeRegressor\n",
    "from sklearn.datasets import make_regression\n",
    "from sklearn.metrics import mean_squared_error\n",
    "from sklearn.model_selection import train_test_split\n",
    "from sklearn.linear_model import Ridge\n",
    "from sklearn.ensemble import RandomForestRegressor, GradientBoostingRegressor\n",
    "import importlib"
   ]
  },
  {
   "cell_type": "code",
   "execution_count": 122,
   "outputs": [
    {
     "data": {
      "text/plain": "<module 'ensembles' from '/home/bogachevv/PycharmProjects/house_sales/src/ensembles.py'>"
     },
     "execution_count": 122,
     "metadata": {},
     "output_type": "execute_result"
    }
   ],
   "source": [
    "import ensembles\n",
    "\n",
    "importlib.reload(ensembles)"
   ],
   "metadata": {
    "collapsed": false,
    "ExecuteTime": {
     "end_time": "2023-11-27T20:56:02.923711200Z",
     "start_time": "2023-11-27T20:56:02.882145050Z"
    }
   },
   "id": "32c4b2771b1ae1bc"
  },
  {
   "cell_type": "code",
   "execution_count": 87,
   "outputs": [],
   "source": [
    "X, y = make_regression(n_samples=12_500, n_features=100, n_informative=75, random_state=6712)\n",
    "\n",
    "X_train, X_test, y_train, y_test = train_test_split(X, y, test_size=2_500, random_state=42)"
   ],
   "metadata": {
    "collapsed": false,
    "ExecuteTime": {
     "end_time": "2023-11-27T20:30:22.983594453Z",
     "start_time": "2023-11-27T20:30:22.941074752Z"
    }
   },
   "id": "9fab4f33d7025879"
  },
  {
   "cell_type": "code",
   "execution_count": 88,
   "outputs": [
    {
     "data": {
      "text/plain": "(10000, 100)"
     },
     "execution_count": 88,
     "metadata": {},
     "output_type": "execute_result"
    }
   ],
   "source": [
    "X_train.shape"
   ],
   "metadata": {
    "collapsed": false,
    "ExecuteTime": {
     "end_time": "2023-11-27T20:30:23.480561607Z",
     "start_time": "2023-11-27T20:30:23.476431999Z"
    }
   },
   "id": "9687e9efd9cc6dc1"
  },
  {
   "cell_type": "code",
   "execution_count": 89,
   "outputs": [
    {
     "data": {
      "text/plain": "array([ 297.88121146, -743.90466471,  292.64405567, ..., -309.39357945,\n         69.53091024, -767.66193659])"
     },
     "execution_count": 89,
     "metadata": {},
     "output_type": "execute_result"
    }
   ],
   "source": [
    "y_train"
   ],
   "metadata": {
    "collapsed": false,
    "ExecuteTime": {
     "end_time": "2023-11-27T20:30:24.030124916Z",
     "start_time": "2023-11-27T20:30:24.024771371Z"
    }
   },
   "id": "1974451903d464c8"
  },
  {
   "cell_type": "code",
   "execution_count": 90,
   "outputs": [],
   "source": [
    "tree = DecisionTreeRegressor(splitter='random', max_features=10)"
   ],
   "metadata": {
    "collapsed": false,
    "ExecuteTime": {
     "end_time": "2023-11-27T20:30:24.786185539Z",
     "start_time": "2023-11-27T20:30:24.782835186Z"
    }
   },
   "id": "302e0001feabbba7"
  },
  {
   "cell_type": "code",
   "execution_count": 91,
   "outputs": [
    {
     "data": {
      "text/plain": "DecisionTreeRegressor(max_features=10, splitter='random')",
      "text/html": "<style>#sk-container-id-9 {color: black;}#sk-container-id-9 pre{padding: 0;}#sk-container-id-9 div.sk-toggleable {background-color: white;}#sk-container-id-9 label.sk-toggleable__label {cursor: pointer;display: block;width: 100%;margin-bottom: 0;padding: 0.3em;box-sizing: border-box;text-align: center;}#sk-container-id-9 label.sk-toggleable__label-arrow:before {content: \"▸\";float: left;margin-right: 0.25em;color: #696969;}#sk-container-id-9 label.sk-toggleable__label-arrow:hover:before {color: black;}#sk-container-id-9 div.sk-estimator:hover label.sk-toggleable__label-arrow:before {color: black;}#sk-container-id-9 div.sk-toggleable__content {max-height: 0;max-width: 0;overflow: hidden;text-align: left;background-color: #f0f8ff;}#sk-container-id-9 div.sk-toggleable__content pre {margin: 0.2em;color: black;border-radius: 0.25em;background-color: #f0f8ff;}#sk-container-id-9 input.sk-toggleable__control:checked~div.sk-toggleable__content {max-height: 200px;max-width: 100%;overflow: auto;}#sk-container-id-9 input.sk-toggleable__control:checked~label.sk-toggleable__label-arrow:before {content: \"▾\";}#sk-container-id-9 div.sk-estimator input.sk-toggleable__control:checked~label.sk-toggleable__label {background-color: #d4ebff;}#sk-container-id-9 div.sk-label input.sk-toggleable__control:checked~label.sk-toggleable__label {background-color: #d4ebff;}#sk-container-id-9 input.sk-hidden--visually {border: 0;clip: rect(1px 1px 1px 1px);clip: rect(1px, 1px, 1px, 1px);height: 1px;margin: -1px;overflow: hidden;padding: 0;position: absolute;width: 1px;}#sk-container-id-9 div.sk-estimator {font-family: monospace;background-color: #f0f8ff;border: 1px dotted black;border-radius: 0.25em;box-sizing: border-box;margin-bottom: 0.5em;}#sk-container-id-9 div.sk-estimator:hover {background-color: #d4ebff;}#sk-container-id-9 div.sk-parallel-item::after {content: \"\";width: 100%;border-bottom: 1px solid gray;flex-grow: 1;}#sk-container-id-9 div.sk-label:hover label.sk-toggleable__label {background-color: #d4ebff;}#sk-container-id-9 div.sk-serial::before {content: \"\";position: absolute;border-left: 1px solid gray;box-sizing: border-box;top: 0;bottom: 0;left: 50%;z-index: 0;}#sk-container-id-9 div.sk-serial {display: flex;flex-direction: column;align-items: center;background-color: white;padding-right: 0.2em;padding-left: 0.2em;position: relative;}#sk-container-id-9 div.sk-item {position: relative;z-index: 1;}#sk-container-id-9 div.sk-parallel {display: flex;align-items: stretch;justify-content: center;background-color: white;position: relative;}#sk-container-id-9 div.sk-item::before, #sk-container-id-9 div.sk-parallel-item::before {content: \"\";position: absolute;border-left: 1px solid gray;box-sizing: border-box;top: 0;bottom: 0;left: 50%;z-index: -1;}#sk-container-id-9 div.sk-parallel-item {display: flex;flex-direction: column;z-index: 1;position: relative;background-color: white;}#sk-container-id-9 div.sk-parallel-item:first-child::after {align-self: flex-end;width: 50%;}#sk-container-id-9 div.sk-parallel-item:last-child::after {align-self: flex-start;width: 50%;}#sk-container-id-9 div.sk-parallel-item:only-child::after {width: 0;}#sk-container-id-9 div.sk-dashed-wrapped {border: 1px dashed gray;margin: 0 0.4em 0.5em 0.4em;box-sizing: border-box;padding-bottom: 0.4em;background-color: white;}#sk-container-id-9 div.sk-label label {font-family: monospace;font-weight: bold;display: inline-block;line-height: 1.2em;}#sk-container-id-9 div.sk-label-container {text-align: center;}#sk-container-id-9 div.sk-container {/* jupyter's `normalize.less` sets `[hidden] { display: none; }` but bootstrap.min.css set `[hidden] { display: none !important; }` so we also need the `!important` here to be able to override the default hidden behavior on the sphinx rendered scikit-learn.org. See: https://github.com/scikit-learn/scikit-learn/issues/21755 */display: inline-block !important;position: relative;}#sk-container-id-9 div.sk-text-repr-fallback {display: none;}</style><div id=\"sk-container-id-9\" class=\"sk-top-container\"><div class=\"sk-text-repr-fallback\"><pre>DecisionTreeRegressor(max_features=10, splitter=&#x27;random&#x27;)</pre><b>In a Jupyter environment, please rerun this cell to show the HTML representation or trust the notebook. <br />On GitHub, the HTML representation is unable to render, please try loading this page with nbviewer.org.</b></div><div class=\"sk-container\" hidden><div class=\"sk-item\"><div class=\"sk-estimator sk-toggleable\"><input class=\"sk-toggleable__control sk-hidden--visually\" id=\"sk-estimator-id-9\" type=\"checkbox\" checked><label for=\"sk-estimator-id-9\" class=\"sk-toggleable__label sk-toggleable__label-arrow\">DecisionTreeRegressor</label><div class=\"sk-toggleable__content\"><pre>DecisionTreeRegressor(max_features=10, splitter=&#x27;random&#x27;)</pre></div></div></div></div></div>"
     },
     "execution_count": 91,
     "metadata": {},
     "output_type": "execute_result"
    }
   ],
   "source": [
    "tree.fit(X_train, y_train)"
   ],
   "metadata": {
    "collapsed": false,
    "ExecuteTime": {
     "end_time": "2023-11-27T20:30:25.234626197Z",
     "start_time": "2023-11-27T20:30:25.211961698Z"
    }
   },
   "id": "8415b6b49c733bea"
  },
  {
   "cell_type": "code",
   "execution_count": 92,
   "outputs": [],
   "source": [
    "rf = ensembles.RandomForestMSE(\n",
    "    n_estimators=100,\n",
    "    feature_subsample_size=75,\n",
    "    random_state=42\n",
    ")"
   ],
   "metadata": {
    "collapsed": false,
    "ExecuteTime": {
     "end_time": "2023-11-27T20:30:26.569119040Z",
     "start_time": "2023-11-27T20:30:26.564981517Z"
    }
   },
   "id": "ea05027b388eab4b"
  },
  {
   "cell_type": "code",
   "execution_count": 93,
   "outputs": [
    {
     "data": {
      "text/plain": "<ensembles.RandomForestMSE at 0x7ff0b45c7550>"
     },
     "execution_count": 93,
     "metadata": {},
     "output_type": "execute_result"
    }
   ],
   "source": [
    "rf.fit(X_train, y_train)"
   ],
   "metadata": {
    "collapsed": false,
    "ExecuteTime": {
     "end_time": "2023-11-27T20:30:36.525857948Z",
     "start_time": "2023-11-27T20:30:27.954697775Z"
    }
   },
   "id": "d37304e0fd2d0aea"
  },
  {
   "cell_type": "code",
   "execution_count": 94,
   "outputs": [
    {
     "data": {
      "text/plain": "(2500,)"
     },
     "execution_count": 94,
     "metadata": {},
     "output_type": "execute_result"
    }
   ],
   "source": [
    "y_pred = rf.predict(X_test)\n",
    "y_pred.shape"
   ],
   "metadata": {
    "collapsed": false,
    "ExecuteTime": {
     "end_time": "2023-11-27T20:30:37.739672542Z",
     "start_time": "2023-11-27T20:30:37.667136962Z"
    }
   },
   "id": "c149aadd3166a059"
  },
  {
   "cell_type": "code",
   "execution_count": 95,
   "outputs": [
    {
     "data": {
      "text/plain": "369508.0769329899"
     },
     "execution_count": 95,
     "metadata": {},
     "output_type": "execute_result"
    }
   ],
   "source": [
    "mean_squared_error(y_true=y_test, y_pred=y_pred)"
   ],
   "metadata": {
    "collapsed": false,
    "ExecuteTime": {
     "end_time": "2023-11-27T20:30:38.689119054Z",
     "start_time": "2023-11-27T20:30:38.684076880Z"
    }
   },
   "id": "83bc3c36a839c976"
  },
  {
   "cell_type": "code",
   "execution_count": 135,
   "outputs": [],
   "source": [
    "bg = ensembles.GradientBoostingMSE(\n",
    "    n_estimators=100,\n",
    "    max_depth=8,\n",
    "    learning_rate=0.05\n",
    ")"
   ],
   "metadata": {
    "collapsed": false,
    "ExecuteTime": {
     "end_time": "2023-11-27T20:57:57.695531302Z",
     "start_time": "2023-11-27T20:57:57.653653242Z"
    }
   },
   "id": "69ebdc0972419f0c"
  },
  {
   "cell_type": "code",
   "execution_count": 136,
   "outputs": [
    {
     "name": "stdout",
     "output_type": "stream",
     "text": [
      "i=  0\tnp.linalg.norm(S)=38659.596677817979\n",
      "i=  1\tnp.linalg.norm(S)=51385.773383843720\n",
      "i=  2\tnp.linalg.norm(S)=51910.120621938346\n",
      "i=  3\tnp.linalg.norm(S)=51951.605028143946\n",
      "i=  4\tnp.linalg.norm(S)=51951.969867486594\n",
      "i=  5\tnp.linalg.norm(S)=51959.911337946964\n",
      "i=  6\tnp.linalg.norm(S)=51961.463919666050\n",
      "i=  7\tnp.linalg.norm(S)=51960.392725995043\n",
      "i=  8\tnp.linalg.norm(S)=51961.488015489194\n",
      "i=  9\tnp.linalg.norm(S)=51960.393929791870\n",
      "i= 10\tnp.linalg.norm(S)=51961.488075662099\n",
      "i= 11\tnp.linalg.norm(S)=51960.393932797517\n",
      "i= 12\tnp.linalg.norm(S)=51961.488075812325\n",
      "i= 13\tnp.linalg.norm(S)=51960.393932805026\n",
      "i= 14\tnp.linalg.norm(S)=51961.488075812704\n",
      "i= 15\tnp.linalg.norm(S)=51960.393932805040\n",
      "i= 16\tnp.linalg.norm(S)=51961.488075812704\n",
      "i= 17\tnp.linalg.norm(S)=51960.393932805040\n",
      "i= 18\tnp.linalg.norm(S)=51961.488075812704\n",
      "i= 19\tnp.linalg.norm(S)=51960.393932805040\n",
      "i= 20\tnp.linalg.norm(S)=51961.488075812704\n",
      "i= 21\tnp.linalg.norm(S)=51960.393932805040\n",
      "i= 22\tnp.linalg.norm(S)=51961.488075812704\n",
      "i= 23\tnp.linalg.norm(S)=51960.393932805040\n",
      "i= 24\tnp.linalg.norm(S)=51961.488075812704\n",
      "i= 25\tnp.linalg.norm(S)=51960.393932805040\n",
      "i= 26\tnp.linalg.norm(S)=51961.488075812704\n",
      "i= 27\tnp.linalg.norm(S)=51960.393932805040\n",
      "i= 28\tnp.linalg.norm(S)=51961.488075812704\n",
      "i= 29\tnp.linalg.norm(S)=51960.393932805040\n",
      "i= 30\tnp.linalg.norm(S)=51961.488075812704\n",
      "i= 31\tnp.linalg.norm(S)=51960.393932805040\n",
      "i= 32\tnp.linalg.norm(S)=51961.488075812704\n",
      "i= 33\tnp.linalg.norm(S)=51960.393932805040\n",
      "i= 34\tnp.linalg.norm(S)=51961.488075812704\n",
      "i= 35\tnp.linalg.norm(S)=51960.393932805040\n",
      "i= 36\tnp.linalg.norm(S)=51961.488075812704\n",
      "i= 37\tnp.linalg.norm(S)=51960.393932805040\n",
      "i= 38\tnp.linalg.norm(S)=51961.488075812704\n",
      "i= 39\tnp.linalg.norm(S)=51960.393932805040\n",
      "i= 40\tnp.linalg.norm(S)=51961.488075812704\n",
      "i= 41\tnp.linalg.norm(S)=51960.393932805040\n",
      "i= 42\tnp.linalg.norm(S)=51961.488075812704\n",
      "i= 43\tnp.linalg.norm(S)=51960.393932805040\n",
      "i= 44\tnp.linalg.norm(S)=51961.488075812704\n",
      "i= 45\tnp.linalg.norm(S)=51960.393932805040\n",
      "i= 46\tnp.linalg.norm(S)=51961.488075812704\n",
      "i= 47\tnp.linalg.norm(S)=51960.393932805040\n",
      "i= 48\tnp.linalg.norm(S)=51961.488075812704\n",
      "i= 49\tnp.linalg.norm(S)=51960.393932805040\n",
      "i= 50\tnp.linalg.norm(S)=51961.488075812704\n",
      "i= 51\tnp.linalg.norm(S)=51960.393932805040\n",
      "i= 52\tnp.linalg.norm(S)=51961.488075812704\n",
      "i= 53\tnp.linalg.norm(S)=51960.393932805040\n",
      "i= 54\tnp.linalg.norm(S)=51961.488075812704\n",
      "i= 55\tnp.linalg.norm(S)=51960.393932805040\n",
      "i= 56\tnp.linalg.norm(S)=51961.488075812704\n",
      "i= 57\tnp.linalg.norm(S)=51960.393932805040\n",
      "i= 58\tnp.linalg.norm(S)=51961.488075812704\n",
      "i= 59\tnp.linalg.norm(S)=51960.393932805040\n",
      "i= 60\tnp.linalg.norm(S)=51961.488075812704\n",
      "i= 61\tnp.linalg.norm(S)=51960.393932805040\n",
      "i= 62\tnp.linalg.norm(S)=51961.488075812704\n",
      "i= 63\tnp.linalg.norm(S)=51960.393932805040\n",
      "i= 64\tnp.linalg.norm(S)=51961.488075812704\n",
      "i= 65\tnp.linalg.norm(S)=51960.393932805040\n",
      "i= 66\tnp.linalg.norm(S)=51961.488075812704\n",
      "i= 67\tnp.linalg.norm(S)=51960.393932805040\n",
      "i= 68\tnp.linalg.norm(S)=51961.488075812704\n",
      "i= 69\tnp.linalg.norm(S)=51960.393932805040\n",
      "i= 70\tnp.linalg.norm(S)=51961.488075812704\n",
      "i= 71\tnp.linalg.norm(S)=51960.393932805040\n",
      "i= 72\tnp.linalg.norm(S)=51961.488075812704\n",
      "i= 73\tnp.linalg.norm(S)=51960.393932805040\n",
      "i= 74\tnp.linalg.norm(S)=51961.488075812704\n",
      "i= 75\tnp.linalg.norm(S)=51960.393932805040\n",
      "i= 76\tnp.linalg.norm(S)=51961.488075812704\n",
      "i= 77\tnp.linalg.norm(S)=51960.393932805040\n",
      "i= 78\tnp.linalg.norm(S)=51961.488075812704\n",
      "i= 79\tnp.linalg.norm(S)=51960.393932805040\n",
      "i= 80\tnp.linalg.norm(S)=51961.488075812704\n",
      "i= 81\tnp.linalg.norm(S)=51960.393932805040\n",
      "i= 82\tnp.linalg.norm(S)=51961.488075812704\n",
      "i= 83\tnp.linalg.norm(S)=51960.393932805040\n",
      "i= 84\tnp.linalg.norm(S)=51961.488075812704\n",
      "i= 85\tnp.linalg.norm(S)=51960.393932805040\n",
      "i= 86\tnp.linalg.norm(S)=51961.488075812704\n",
      "i= 87\tnp.linalg.norm(S)=51960.393932805040\n",
      "i= 88\tnp.linalg.norm(S)=51961.488075812704\n",
      "i= 89\tnp.linalg.norm(S)=51960.393932805040\n",
      "i= 90\tnp.linalg.norm(S)=51961.488075812704\n",
      "i= 91\tnp.linalg.norm(S)=51960.393932805040\n",
      "i= 92\tnp.linalg.norm(S)=51961.488075812704\n",
      "i= 93\tnp.linalg.norm(S)=51960.393932805040\n",
      "i= 94\tnp.linalg.norm(S)=51961.488075812704\n",
      "i= 95\tnp.linalg.norm(S)=51960.393932805040\n",
      "i= 96\tnp.linalg.norm(S)=51961.488075812704\n",
      "i= 97\tnp.linalg.norm(S)=51960.393932805040\n",
      "i= 98\tnp.linalg.norm(S)=51961.488075812704\n",
      "i= 99\tnp.linalg.norm(S)=51960.393932805040\n"
     ]
    }
   ],
   "source": [
    "bg.fit(X_train, y_train)"
   ],
   "metadata": {
    "collapsed": false,
    "ExecuteTime": {
     "end_time": "2023-11-27T20:58:49.326097816Z",
     "start_time": "2023-11-27T20:57:57.814477696Z"
    }
   },
   "id": "4f8375e58e2176e7"
  },
  {
   "cell_type": "code",
   "execution_count": 137,
   "outputs": [
    {
     "data": {
      "text/plain": "(2500,)"
     },
     "execution_count": 137,
     "metadata": {},
     "output_type": "execute_result"
    }
   ],
   "source": [
    "y_pred_bg = bg.predict(X_test)\n",
    "y_pred_bg.shape"
   ],
   "metadata": {
    "collapsed": false,
    "ExecuteTime": {
     "end_time": "2023-11-27T21:00:06.583664923Z",
     "start_time": "2023-11-27T21:00:06.542311976Z"
    }
   },
   "id": "ca673b7af686d02d"
  },
  {
   "cell_type": "code",
   "execution_count": 138,
   "outputs": [
    {
     "data": {
      "text/plain": "3028185.3003083807"
     },
     "execution_count": 138,
     "metadata": {},
     "output_type": "execute_result"
    }
   ],
   "source": [
    "mean_squared_error(y_true=y_test, y_pred=y_pred_bg)"
   ],
   "metadata": {
    "collapsed": false,
    "ExecuteTime": {
     "end_time": "2023-11-27T21:00:06.858206244Z",
     "start_time": "2023-11-27T21:00:06.855417674Z"
    }
   },
   "id": "66ef460c9a1a1494"
  },
  {
   "cell_type": "code",
   "execution_count": 96,
   "outputs": [
    {
     "data": {
      "text/plain": "RandomForestRegressor(n_estimators=2500, n_jobs=-1, random_state=42)",
      "text/html": "<style>#sk-container-id-10 {color: black;}#sk-container-id-10 pre{padding: 0;}#sk-container-id-10 div.sk-toggleable {background-color: white;}#sk-container-id-10 label.sk-toggleable__label {cursor: pointer;display: block;width: 100%;margin-bottom: 0;padding: 0.3em;box-sizing: border-box;text-align: center;}#sk-container-id-10 label.sk-toggleable__label-arrow:before {content: \"▸\";float: left;margin-right: 0.25em;color: #696969;}#sk-container-id-10 label.sk-toggleable__label-arrow:hover:before {color: black;}#sk-container-id-10 div.sk-estimator:hover label.sk-toggleable__label-arrow:before {color: black;}#sk-container-id-10 div.sk-toggleable__content {max-height: 0;max-width: 0;overflow: hidden;text-align: left;background-color: #f0f8ff;}#sk-container-id-10 div.sk-toggleable__content pre {margin: 0.2em;color: black;border-radius: 0.25em;background-color: #f0f8ff;}#sk-container-id-10 input.sk-toggleable__control:checked~div.sk-toggleable__content {max-height: 200px;max-width: 100%;overflow: auto;}#sk-container-id-10 input.sk-toggleable__control:checked~label.sk-toggleable__label-arrow:before {content: \"▾\";}#sk-container-id-10 div.sk-estimator input.sk-toggleable__control:checked~label.sk-toggleable__label {background-color: #d4ebff;}#sk-container-id-10 div.sk-label input.sk-toggleable__control:checked~label.sk-toggleable__label {background-color: #d4ebff;}#sk-container-id-10 input.sk-hidden--visually {border: 0;clip: rect(1px 1px 1px 1px);clip: rect(1px, 1px, 1px, 1px);height: 1px;margin: -1px;overflow: hidden;padding: 0;position: absolute;width: 1px;}#sk-container-id-10 div.sk-estimator {font-family: monospace;background-color: #f0f8ff;border: 1px dotted black;border-radius: 0.25em;box-sizing: border-box;margin-bottom: 0.5em;}#sk-container-id-10 div.sk-estimator:hover {background-color: #d4ebff;}#sk-container-id-10 div.sk-parallel-item::after {content: \"\";width: 100%;border-bottom: 1px solid gray;flex-grow: 1;}#sk-container-id-10 div.sk-label:hover label.sk-toggleable__label {background-color: #d4ebff;}#sk-container-id-10 div.sk-serial::before {content: \"\";position: absolute;border-left: 1px solid gray;box-sizing: border-box;top: 0;bottom: 0;left: 50%;z-index: 0;}#sk-container-id-10 div.sk-serial {display: flex;flex-direction: column;align-items: center;background-color: white;padding-right: 0.2em;padding-left: 0.2em;position: relative;}#sk-container-id-10 div.sk-item {position: relative;z-index: 1;}#sk-container-id-10 div.sk-parallel {display: flex;align-items: stretch;justify-content: center;background-color: white;position: relative;}#sk-container-id-10 div.sk-item::before, #sk-container-id-10 div.sk-parallel-item::before {content: \"\";position: absolute;border-left: 1px solid gray;box-sizing: border-box;top: 0;bottom: 0;left: 50%;z-index: -1;}#sk-container-id-10 div.sk-parallel-item {display: flex;flex-direction: column;z-index: 1;position: relative;background-color: white;}#sk-container-id-10 div.sk-parallel-item:first-child::after {align-self: flex-end;width: 50%;}#sk-container-id-10 div.sk-parallel-item:last-child::after {align-self: flex-start;width: 50%;}#sk-container-id-10 div.sk-parallel-item:only-child::after {width: 0;}#sk-container-id-10 div.sk-dashed-wrapped {border: 1px dashed gray;margin: 0 0.4em 0.5em 0.4em;box-sizing: border-box;padding-bottom: 0.4em;background-color: white;}#sk-container-id-10 div.sk-label label {font-family: monospace;font-weight: bold;display: inline-block;line-height: 1.2em;}#sk-container-id-10 div.sk-label-container {text-align: center;}#sk-container-id-10 div.sk-container {/* jupyter's `normalize.less` sets `[hidden] { display: none; }` but bootstrap.min.css set `[hidden] { display: none !important; }` so we also need the `!important` here to be able to override the default hidden behavior on the sphinx rendered scikit-learn.org. See: https://github.com/scikit-learn/scikit-learn/issues/21755 */display: inline-block !important;position: relative;}#sk-container-id-10 div.sk-text-repr-fallback {display: none;}</style><div id=\"sk-container-id-10\" class=\"sk-top-container\"><div class=\"sk-text-repr-fallback\"><pre>RandomForestRegressor(n_estimators=2500, n_jobs=-1, random_state=42)</pre><b>In a Jupyter environment, please rerun this cell to show the HTML representation or trust the notebook. <br />On GitHub, the HTML representation is unable to render, please try loading this page with nbviewer.org.</b></div><div class=\"sk-container\" hidden><div class=\"sk-item\"><div class=\"sk-estimator sk-toggleable\"><input class=\"sk-toggleable__control sk-hidden--visually\" id=\"sk-estimator-id-10\" type=\"checkbox\" checked><label for=\"sk-estimator-id-10\" class=\"sk-toggleable__label sk-toggleable__label-arrow\">RandomForestRegressor</label><div class=\"sk-toggleable__content\"><pre>RandomForestRegressor(n_estimators=2500, n_jobs=-1, random_state=42)</pre></div></div></div></div></div>"
     },
     "execution_count": 96,
     "metadata": {},
     "output_type": "execute_result"
    }
   ],
   "source": [
    "rf_sk = RandomForestRegressor(\n",
    "    n_estimators=2_500,\n",
    "    random_state=42,\n",
    "    n_jobs=-1\n",
    ")\n",
    "\n",
    "rf_sk.fit(X_train, y_train)"
   ],
   "metadata": {
    "collapsed": false,
    "ExecuteTime": {
     "end_time": "2023-11-27T20:33:07.567883158Z",
     "start_time": "2023-11-27T20:30:42.478163926Z"
    }
   },
   "id": "d008c71c0688b3fc"
  },
  {
   "cell_type": "code",
   "execution_count": 97,
   "outputs": [
    {
     "data": {
      "text/plain": "143126.81532618028"
     },
     "execution_count": 97,
     "metadata": {},
     "output_type": "execute_result"
    }
   ],
   "source": [
    "y_pred_sk = rf_sk.predict(X_test)\n",
    "mean_squared_error(y_true=y_test, y_pred=y_pred_sk)"
   ],
   "metadata": {
    "collapsed": false,
    "ExecuteTime": {
     "end_time": "2023-11-27T20:33:08.021292365Z",
     "start_time": "2023-11-27T20:33:07.567630793Z"
    }
   },
   "id": "9efa63063c7d3011"
  },
  {
   "cell_type": "code",
   "execution_count": 98,
   "outputs": [
    {
     "data": {
      "text/plain": "GradientBoostingRegressor(criterion='squared_error', n_estimators=2500,\n                          random_state=42)",
      "text/html": "<style>#sk-container-id-11 {color: black;}#sk-container-id-11 pre{padding: 0;}#sk-container-id-11 div.sk-toggleable {background-color: white;}#sk-container-id-11 label.sk-toggleable__label {cursor: pointer;display: block;width: 100%;margin-bottom: 0;padding: 0.3em;box-sizing: border-box;text-align: center;}#sk-container-id-11 label.sk-toggleable__label-arrow:before {content: \"▸\";float: left;margin-right: 0.25em;color: #696969;}#sk-container-id-11 label.sk-toggleable__label-arrow:hover:before {color: black;}#sk-container-id-11 div.sk-estimator:hover label.sk-toggleable__label-arrow:before {color: black;}#sk-container-id-11 div.sk-toggleable__content {max-height: 0;max-width: 0;overflow: hidden;text-align: left;background-color: #f0f8ff;}#sk-container-id-11 div.sk-toggleable__content pre {margin: 0.2em;color: black;border-radius: 0.25em;background-color: #f0f8ff;}#sk-container-id-11 input.sk-toggleable__control:checked~div.sk-toggleable__content {max-height: 200px;max-width: 100%;overflow: auto;}#sk-container-id-11 input.sk-toggleable__control:checked~label.sk-toggleable__label-arrow:before {content: \"▾\";}#sk-container-id-11 div.sk-estimator input.sk-toggleable__control:checked~label.sk-toggleable__label {background-color: #d4ebff;}#sk-container-id-11 div.sk-label input.sk-toggleable__control:checked~label.sk-toggleable__label {background-color: #d4ebff;}#sk-container-id-11 input.sk-hidden--visually {border: 0;clip: rect(1px 1px 1px 1px);clip: rect(1px, 1px, 1px, 1px);height: 1px;margin: -1px;overflow: hidden;padding: 0;position: absolute;width: 1px;}#sk-container-id-11 div.sk-estimator {font-family: monospace;background-color: #f0f8ff;border: 1px dotted black;border-radius: 0.25em;box-sizing: border-box;margin-bottom: 0.5em;}#sk-container-id-11 div.sk-estimator:hover {background-color: #d4ebff;}#sk-container-id-11 div.sk-parallel-item::after {content: \"\";width: 100%;border-bottom: 1px solid gray;flex-grow: 1;}#sk-container-id-11 div.sk-label:hover label.sk-toggleable__label {background-color: #d4ebff;}#sk-container-id-11 div.sk-serial::before {content: \"\";position: absolute;border-left: 1px solid gray;box-sizing: border-box;top: 0;bottom: 0;left: 50%;z-index: 0;}#sk-container-id-11 div.sk-serial {display: flex;flex-direction: column;align-items: center;background-color: white;padding-right: 0.2em;padding-left: 0.2em;position: relative;}#sk-container-id-11 div.sk-item {position: relative;z-index: 1;}#sk-container-id-11 div.sk-parallel {display: flex;align-items: stretch;justify-content: center;background-color: white;position: relative;}#sk-container-id-11 div.sk-item::before, #sk-container-id-11 div.sk-parallel-item::before {content: \"\";position: absolute;border-left: 1px solid gray;box-sizing: border-box;top: 0;bottom: 0;left: 50%;z-index: -1;}#sk-container-id-11 div.sk-parallel-item {display: flex;flex-direction: column;z-index: 1;position: relative;background-color: white;}#sk-container-id-11 div.sk-parallel-item:first-child::after {align-self: flex-end;width: 50%;}#sk-container-id-11 div.sk-parallel-item:last-child::after {align-self: flex-start;width: 50%;}#sk-container-id-11 div.sk-parallel-item:only-child::after {width: 0;}#sk-container-id-11 div.sk-dashed-wrapped {border: 1px dashed gray;margin: 0 0.4em 0.5em 0.4em;box-sizing: border-box;padding-bottom: 0.4em;background-color: white;}#sk-container-id-11 div.sk-label label {font-family: monospace;font-weight: bold;display: inline-block;line-height: 1.2em;}#sk-container-id-11 div.sk-label-container {text-align: center;}#sk-container-id-11 div.sk-container {/* jupyter's `normalize.less` sets `[hidden] { display: none; }` but bootstrap.min.css set `[hidden] { display: none !important; }` so we also need the `!important` here to be able to override the default hidden behavior on the sphinx rendered scikit-learn.org. See: https://github.com/scikit-learn/scikit-learn/issues/21755 */display: inline-block !important;position: relative;}#sk-container-id-11 div.sk-text-repr-fallback {display: none;}</style><div id=\"sk-container-id-11\" class=\"sk-top-container\"><div class=\"sk-text-repr-fallback\"><pre>GradientBoostingRegressor(criterion=&#x27;squared_error&#x27;, n_estimators=2500,\n                          random_state=42)</pre><b>In a Jupyter environment, please rerun this cell to show the HTML representation or trust the notebook. <br />On GitHub, the HTML representation is unable to render, please try loading this page with nbviewer.org.</b></div><div class=\"sk-container\" hidden><div class=\"sk-item\"><div class=\"sk-estimator sk-toggleable\"><input class=\"sk-toggleable__control sk-hidden--visually\" id=\"sk-estimator-id-11\" type=\"checkbox\" checked><label for=\"sk-estimator-id-11\" class=\"sk-toggleable__label sk-toggleable__label-arrow\">GradientBoostingRegressor</label><div class=\"sk-toggleable__content\"><pre>GradientBoostingRegressor(criterion=&#x27;squared_error&#x27;, n_estimators=2500,\n                          random_state=42)</pre></div></div></div></div></div>"
     },
     "execution_count": 98,
     "metadata": {},
     "output_type": "execute_result"
    }
   ],
   "source": [
    "gb_sk = GradientBoostingRegressor(\n",
    "    n_estimators=2_500,\n",
    "    criterion='squared_error',\n",
    "    random_state=42,\n",
    ")\n",
    "\n",
    "gb_sk.fit(X_train, y_train)"
   ],
   "metadata": {
    "collapsed": false,
    "ExecuteTime": {
     "end_time": "2023-11-27T20:43:25.027819291Z",
     "start_time": "2023-11-27T20:33:08.023706219Z"
    }
   },
   "id": "3a9c017bbd61426d"
  },
  {
   "cell_type": "code",
   "execution_count": 99,
   "outputs": [
    {
     "data": {
      "text/plain": "21381.36246273232"
     },
     "execution_count": 99,
     "metadata": {},
     "output_type": "execute_result"
    }
   ],
   "source": [
    "y_pred_gb_sk = gb_sk.predict(X_test)\n",
    "mean_squared_error(y_true=y_test, y_pred=y_pred_gb_sk)"
   ],
   "metadata": {
    "collapsed": false,
    "ExecuteTime": {
     "end_time": "2023-11-27T20:43:25.046453673Z",
     "start_time": "2023-11-27T20:43:25.027550611Z"
    }
   },
   "id": "bcfe5a6362546350"
  },
  {
   "cell_type": "code",
   "execution_count": 100,
   "outputs": [],
   "source": [
    "ridge = Ridge(alpha=0.5)\n",
    "ridge.fit(X_train, y_train)\n",
    "\n",
    "y_pred_ridge = ridge.predict(X_test)"
   ],
   "metadata": {
    "collapsed": false,
    "ExecuteTime": {
     "end_time": "2023-11-27T20:43:25.085137253Z",
     "start_time": "2023-11-27T20:43:25.048095062Z"
    }
   },
   "id": "f6a34c4fb3900543"
  },
  {
   "cell_type": "code",
   "execution_count": 101,
   "outputs": [
    {
     "data": {
      "text/plain": "0.000627370904869402"
     },
     "execution_count": 101,
     "metadata": {},
     "output_type": "execute_result"
    }
   ],
   "source": [
    "mean_squared_error(y_true=y_test, y_pred=y_pred_ridge)"
   ],
   "metadata": {
    "collapsed": false,
    "ExecuteTime": {
     "end_time": "2023-11-27T20:43:25.094709287Z",
     "start_time": "2023-11-27T20:43:25.086278137Z"
    }
   },
   "id": "a09f089b8def79a8"
  },
  {
   "cell_type": "code",
   "execution_count": null,
   "outputs": [],
   "source": [],
   "metadata": {
    "collapsed": false
   },
   "id": "d2ea62caa5519e5"
  }
 ],
 "metadata": {
  "kernelspec": {
   "display_name": "Python 3",
   "language": "python",
   "name": "python3"
  },
  "language_info": {
   "codemirror_mode": {
    "name": "ipython",
    "version": 2
   },
   "file_extension": ".py",
   "mimetype": "text/x-python",
   "name": "python",
   "nbconvert_exporter": "python",
   "pygments_lexer": "ipython2",
   "version": "2.7.6"
  }
 },
 "nbformat": 4,
 "nbformat_minor": 5
}
