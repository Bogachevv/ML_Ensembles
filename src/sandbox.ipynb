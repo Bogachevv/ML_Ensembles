{
 "cells": [
  {
   "cell_type": "code",
   "execution_count": 1,
   "id": "initial_id",
   "metadata": {
    "collapsed": true,
    "ExecuteTime": {
     "end_time": "2023-11-28T11:48:39.128349800Z",
     "start_time": "2023-11-28T11:48:38.369199400Z"
    }
   },
   "outputs": [],
   "source": [
    "import numpy as np\n",
    "from scipy.optimize import minimize_scalar\n",
    "from sklearn.tree import DecisionTreeRegressor\n",
    "from sklearn.datasets import make_regression\n",
    "from sklearn.metrics import mean_squared_error\n",
    "from sklearn.model_selection import train_test_split\n",
    "from sklearn.linear_model import Ridge\n",
    "from sklearn.ensemble import RandomForestRegressor, GradientBoostingRegressor\n",
    "import importlib"
   ]
  },
  {
   "cell_type": "code",
   "execution_count": 20,
   "outputs": [
    {
     "data": {
      "text/plain": "<module 'ensembles' from 'C:\\\\bogachevv\\\\Python\\\\House_sales\\\\src\\\\ensembles.py'>"
     },
     "execution_count": 20,
     "metadata": {},
     "output_type": "execute_result"
    }
   ],
   "source": [
    "import ensembles\n",
    "\n",
    "importlib.reload(ensembles)"
   ],
   "metadata": {
    "collapsed": false,
    "ExecuteTime": {
     "end_time": "2023-11-28T11:52:41.536206600Z",
     "start_time": "2023-11-28T11:52:41.504949500Z"
    }
   },
   "id": "32c4b2771b1ae1bc"
  },
  {
   "cell_type": "code",
   "execution_count": 3,
   "outputs": [],
   "source": [
    "X, y = make_regression(n_samples=12_500, n_features=100, n_informative=75, random_state=6712)\n",
    "\n",
    "X_train, X_test, y_train, y_test = train_test_split(X, y, test_size=2_500, random_state=42)"
   ],
   "metadata": {
    "collapsed": false,
    "ExecuteTime": {
     "end_time": "2023-11-28T11:48:40.529333400Z",
     "start_time": "2023-11-28T11:48:40.451967400Z"
    }
   },
   "id": "9fab4f33d7025879"
  },
  {
   "cell_type": "code",
   "execution_count": 4,
   "outputs": [
    {
     "data": {
      "text/plain": "(10000, 100)"
     },
     "execution_count": 4,
     "metadata": {},
     "output_type": "execute_result"
    }
   ],
   "source": [
    "X_train.shape"
   ],
   "metadata": {
    "collapsed": false,
    "ExecuteTime": {
     "end_time": "2023-11-28T11:48:41.120201600Z",
     "start_time": "2023-11-28T11:48:41.076101600Z"
    }
   },
   "id": "9687e9efd9cc6dc1"
  },
  {
   "cell_type": "code",
   "execution_count": 5,
   "outputs": [
    {
     "data": {
      "text/plain": "array([ 297.88121146, -743.90466471,  292.64405567, ..., -309.39357945,\n         69.53091024, -767.66193659])"
     },
     "execution_count": 5,
     "metadata": {},
     "output_type": "execute_result"
    }
   ],
   "source": [
    "y_train"
   ],
   "metadata": {
    "collapsed": false,
    "ExecuteTime": {
     "end_time": "2023-11-28T11:48:41.860473400Z",
     "start_time": "2023-11-28T11:48:41.844824400Z"
    }
   },
   "id": "1974451903d464c8"
  },
  {
   "cell_type": "code",
   "execution_count": 6,
   "outputs": [],
   "source": [
    "tree = DecisionTreeRegressor(splitter='random', max_features=10)"
   ],
   "metadata": {
    "collapsed": false,
    "ExecuteTime": {
     "end_time": "2023-11-28T11:39:34.796418100Z",
     "start_time": "2023-11-28T11:39:34.780789Z"
    }
   },
   "id": "302e0001feabbba7"
  },
  {
   "cell_type": "code",
   "execution_count": 7,
   "outputs": [
    {
     "data": {
      "text/plain": "DecisionTreeRegressor(max_features=10, splitter='random')",
      "text/html": "<style>#sk-container-id-1 {color: black;}#sk-container-id-1 pre{padding: 0;}#sk-container-id-1 div.sk-toggleable {background-color: white;}#sk-container-id-1 label.sk-toggleable__label {cursor: pointer;display: block;width: 100%;margin-bottom: 0;padding: 0.3em;box-sizing: border-box;text-align: center;}#sk-container-id-1 label.sk-toggleable__label-arrow:before {content: \"▸\";float: left;margin-right: 0.25em;color: #696969;}#sk-container-id-1 label.sk-toggleable__label-arrow:hover:before {color: black;}#sk-container-id-1 div.sk-estimator:hover label.sk-toggleable__label-arrow:before {color: black;}#sk-container-id-1 div.sk-toggleable__content {max-height: 0;max-width: 0;overflow: hidden;text-align: left;background-color: #f0f8ff;}#sk-container-id-1 div.sk-toggleable__content pre {margin: 0.2em;color: black;border-radius: 0.25em;background-color: #f0f8ff;}#sk-container-id-1 input.sk-toggleable__control:checked~div.sk-toggleable__content {max-height: 200px;max-width: 100%;overflow: auto;}#sk-container-id-1 input.sk-toggleable__control:checked~label.sk-toggleable__label-arrow:before {content: \"▾\";}#sk-container-id-1 div.sk-estimator input.sk-toggleable__control:checked~label.sk-toggleable__label {background-color: #d4ebff;}#sk-container-id-1 div.sk-label input.sk-toggleable__control:checked~label.sk-toggleable__label {background-color: #d4ebff;}#sk-container-id-1 input.sk-hidden--visually {border: 0;clip: rect(1px 1px 1px 1px);clip: rect(1px, 1px, 1px, 1px);height: 1px;margin: -1px;overflow: hidden;padding: 0;position: absolute;width: 1px;}#sk-container-id-1 div.sk-estimator {font-family: monospace;background-color: #f0f8ff;border: 1px dotted black;border-radius: 0.25em;box-sizing: border-box;margin-bottom: 0.5em;}#sk-container-id-1 div.sk-estimator:hover {background-color: #d4ebff;}#sk-container-id-1 div.sk-parallel-item::after {content: \"\";width: 100%;border-bottom: 1px solid gray;flex-grow: 1;}#sk-container-id-1 div.sk-label:hover label.sk-toggleable__label {background-color: #d4ebff;}#sk-container-id-1 div.sk-serial::before {content: \"\";position: absolute;border-left: 1px solid gray;box-sizing: border-box;top: 0;bottom: 0;left: 50%;z-index: 0;}#sk-container-id-1 div.sk-serial {display: flex;flex-direction: column;align-items: center;background-color: white;padding-right: 0.2em;padding-left: 0.2em;position: relative;}#sk-container-id-1 div.sk-item {position: relative;z-index: 1;}#sk-container-id-1 div.sk-parallel {display: flex;align-items: stretch;justify-content: center;background-color: white;position: relative;}#sk-container-id-1 div.sk-item::before, #sk-container-id-1 div.sk-parallel-item::before {content: \"\";position: absolute;border-left: 1px solid gray;box-sizing: border-box;top: 0;bottom: 0;left: 50%;z-index: -1;}#sk-container-id-1 div.sk-parallel-item {display: flex;flex-direction: column;z-index: 1;position: relative;background-color: white;}#sk-container-id-1 div.sk-parallel-item:first-child::after {align-self: flex-end;width: 50%;}#sk-container-id-1 div.sk-parallel-item:last-child::after {align-self: flex-start;width: 50%;}#sk-container-id-1 div.sk-parallel-item:only-child::after {width: 0;}#sk-container-id-1 div.sk-dashed-wrapped {border: 1px dashed gray;margin: 0 0.4em 0.5em 0.4em;box-sizing: border-box;padding-bottom: 0.4em;background-color: white;}#sk-container-id-1 div.sk-label label {font-family: monospace;font-weight: bold;display: inline-block;line-height: 1.2em;}#sk-container-id-1 div.sk-label-container {text-align: center;}#sk-container-id-1 div.sk-container {/* jupyter's `normalize.less` sets `[hidden] { display: none; }` but bootstrap.min.css set `[hidden] { display: none !important; }` so we also need the `!important` here to be able to override the default hidden behavior on the sphinx rendered scikit-learn.org. See: https://github.com/scikit-learn/scikit-learn/issues/21755 */display: inline-block !important;position: relative;}#sk-container-id-1 div.sk-text-repr-fallback {display: none;}</style><div id=\"sk-container-id-1\" class=\"sk-top-container\"><div class=\"sk-text-repr-fallback\"><pre>DecisionTreeRegressor(max_features=10, splitter=&#x27;random&#x27;)</pre><b>In a Jupyter environment, please rerun this cell to show the HTML representation or trust the notebook. <br />On GitHub, the HTML representation is unable to render, please try loading this page with nbviewer.org.</b></div><div class=\"sk-container\" hidden><div class=\"sk-item\"><div class=\"sk-estimator sk-toggleable\"><input class=\"sk-toggleable__control sk-hidden--visually\" id=\"sk-estimator-id-1\" type=\"checkbox\" checked><label for=\"sk-estimator-id-1\" class=\"sk-toggleable__label sk-toggleable__label-arrow\">DecisionTreeRegressor</label><div class=\"sk-toggleable__content\"><pre>DecisionTreeRegressor(max_features=10, splitter=&#x27;random&#x27;)</pre></div></div></div></div></div>"
     },
     "execution_count": 7,
     "metadata": {},
     "output_type": "execute_result"
    }
   ],
   "source": [
    "tree.fit(X_train, y_train)"
   ],
   "metadata": {
    "collapsed": false,
    "ExecuteTime": {
     "end_time": "2023-11-28T11:39:35.576578900Z",
     "start_time": "2023-11-28T11:39:35.420286400Z"
    }
   },
   "id": "8415b6b49c733bea"
  },
  {
   "cell_type": "code",
   "execution_count": 12,
   "outputs": [],
   "source": [
    "rf = ensembles.RandomForestMSE(\n",
    "    n_estimators=250,\n",
    "    feature_subsample_size=75,\n",
    "    random_state=42\n",
    ")"
   ],
   "metadata": {
    "collapsed": false,
    "ExecuteTime": {
     "end_time": "2023-11-28T11:42:03.482509500Z",
     "start_time": "2023-11-28T11:42:03.445015Z"
    }
   },
   "id": "ea05027b388eab4b"
  },
  {
   "cell_type": "code",
   "execution_count": 13,
   "outputs": [
    {
     "data": {
      "text/plain": "<ensembles.RandomForestMSE at 0x1c85010c1c0>"
     },
     "execution_count": 13,
     "metadata": {},
     "output_type": "execute_result"
    }
   ],
   "source": [
    "rf.fit(X_train, y_train)"
   ],
   "metadata": {
    "collapsed": false,
    "ExecuteTime": {
     "end_time": "2023-11-28T11:43:22.562092700Z",
     "start_time": "2023-11-28T11:42:04.074939600Z"
    }
   },
   "id": "d37304e0fd2d0aea"
  },
  {
   "cell_type": "code",
   "execution_count": 14,
   "outputs": [
    {
     "data": {
      "text/plain": "(2500,)"
     },
     "execution_count": 14,
     "metadata": {},
     "output_type": "execute_result"
    }
   ],
   "source": [
    "y_pred = rf.predict(X_test)\n",
    "y_pred.shape"
   ],
   "metadata": {
    "collapsed": false,
    "ExecuteTime": {
     "end_time": "2023-11-28T11:43:22.870635800Z",
     "start_time": "2023-11-28T11:43:22.568225300Z"
    }
   },
   "id": "c149aadd3166a059"
  },
  {
   "cell_type": "code",
   "execution_count": 15,
   "outputs": [
    {
     "data": {
      "text/plain": "153148.33514545715"
     },
     "execution_count": 15,
     "metadata": {},
     "output_type": "execute_result"
    }
   ],
   "source": [
    "mean_squared_error(y_true=y_test, y_pred=y_pred)"
   ],
   "metadata": {
    "collapsed": false,
    "ExecuteTime": {
     "end_time": "2023-11-28T11:43:28.588595700Z",
     "start_time": "2023-11-28T11:43:28.588595700Z"
    }
   },
   "id": "83bc3c36a839c976"
  },
  {
   "cell_type": "markdown",
   "source": [
    "369508.0769329899"
   ],
   "metadata": {
    "collapsed": false
   },
   "id": "5b84276e34d42e97"
  },
  {
   "cell_type": "code",
   "execution_count": 25,
   "outputs": [],
   "source": [
    "bg = ensembles.GradientBoostingMSE(\n",
    "    n_estimators=100,\n",
    "    max_depth=6,\n",
    "    learning_rate=0.1\n",
    ")"
   ],
   "metadata": {
    "collapsed": false,
    "ExecuteTime": {
     "end_time": "2023-11-28T11:54:31.058562700Z",
     "start_time": "2023-11-28T11:54:30.945671500Z"
    }
   },
   "id": "69ebdc0972419f0c"
  },
  {
   "cell_type": "code",
   "execution_count": 26,
   "outputs": [
    {
     "name": "stdout",
     "output_type": "stream",
     "text": [
      "i=  0\tnp.linalg.norm(S)=44208.947306968155\n",
      "i=  1\tnp.linalg.norm(S)=43365.581599089244\n",
      "i=  2\tnp.linalg.norm(S)=42572.142959885532\n",
      "i=  3\tnp.linalg.norm(S)=41791.662020725547\n",
      "i=  4\tnp.linalg.norm(S)=41068.575660450340\n",
      "i=  5\tnp.linalg.norm(S)=40347.914174178346\n",
      "i=  6\tnp.linalg.norm(S)=39655.776721281982\n",
      "i=  7\tnp.linalg.norm(S)=38988.652616826446\n",
      "i=  8\tnp.linalg.norm(S)=38343.248067157867\n",
      "i=  9\tnp.linalg.norm(S)=37734.134620457873\n",
      "i= 10\tnp.linalg.norm(S)=37126.446723825560\n",
      "i= 11\tnp.linalg.norm(S)=36527.462765861514\n",
      "i= 12\tnp.linalg.norm(S)=35933.840186462905\n",
      "i= 13\tnp.linalg.norm(S)=35363.176684805963\n",
      "i= 14\tnp.linalg.norm(S)=34838.122472793752\n",
      "i= 15\tnp.linalg.norm(S)=34307.288450009997\n",
      "i= 16\tnp.linalg.norm(S)=33797.032398847470\n",
      "i= 17\tnp.linalg.norm(S)=33312.214615730685\n",
      "i= 18\tnp.linalg.norm(S)=32824.158017085065\n",
      "i= 19\tnp.linalg.norm(S)=32334.669884872641\n",
      "i= 20\tnp.linalg.norm(S)=31868.279132765871\n",
      "i= 21\tnp.linalg.norm(S)=31419.655221446104\n",
      "i= 22\tnp.linalg.norm(S)=30995.148023548241\n",
      "i= 23\tnp.linalg.norm(S)=30537.882540877308\n",
      "i= 24\tnp.linalg.norm(S)=30082.372724535788\n",
      "i= 25\tnp.linalg.norm(S)=29686.961615372653\n",
      "i= 26\tnp.linalg.norm(S)=29285.773544011103\n",
      "i= 27\tnp.linalg.norm(S)=28861.055785119446\n",
      "i= 28\tnp.linalg.norm(S)=28473.719059291412\n",
      "i= 29\tnp.linalg.norm(S)=28100.872812793943\n",
      "i= 30\tnp.linalg.norm(S)=27773.232749168954\n",
      "i= 31\tnp.linalg.norm(S)=27417.857266471172\n",
      "i= 32\tnp.linalg.norm(S)=27073.589547202486\n",
      "i= 33\tnp.linalg.norm(S)=26704.099407415608\n",
      "i= 34\tnp.linalg.norm(S)=26333.618657985629\n",
      "i= 35\tnp.linalg.norm(S)=26001.752103728919\n",
      "i= 36\tnp.linalg.norm(S)=25698.208651817247\n",
      "i= 37\tnp.linalg.norm(S)=25403.714062641116\n",
      "i= 38\tnp.linalg.norm(S)=25099.795165203504\n",
      "i= 39\tnp.linalg.norm(S)=24810.681443446018\n",
      "i= 40\tnp.linalg.norm(S)=24520.792597417847\n",
      "i= 41\tnp.linalg.norm(S)=24243.381041142013\n",
      "i= 42\tnp.linalg.norm(S)=23928.569015108555\n",
      "i= 43\tnp.linalg.norm(S)=23629.444974311882\n",
      "i= 44\tnp.linalg.norm(S)=23340.834953947855\n",
      "i= 45\tnp.linalg.norm(S)=23068.261557998016\n",
      "i= 46\tnp.linalg.norm(S)=22790.511543344470\n",
      "i= 47\tnp.linalg.norm(S)=22528.502924857574\n",
      "i= 48\tnp.linalg.norm(S)=22248.986656843193\n",
      "i= 49\tnp.linalg.norm(S)=21987.195873957626\n",
      "i= 50\tnp.linalg.norm(S)=21719.744878427067\n",
      "i= 51\tnp.linalg.norm(S)=21454.301294726065\n",
      "i= 52\tnp.linalg.norm(S)=21252.133846577268\n",
      "i= 53\tnp.linalg.norm(S)=21007.652113936685\n",
      "i= 54\tnp.linalg.norm(S)=20787.930104051888\n",
      "i= 55\tnp.linalg.norm(S)=20564.034896423527\n",
      "i= 56\tnp.linalg.norm(S)=20328.496816940955\n",
      "i= 57\tnp.linalg.norm(S)=20111.801111695851\n",
      "i= 58\tnp.linalg.norm(S)=19892.728174843865\n",
      "i= 59\tnp.linalg.norm(S)=19672.717256705047\n",
      "i= 60\tnp.linalg.norm(S)=19452.356429640426\n",
      "i= 61\tnp.linalg.norm(S)=19265.109459852920\n",
      "i= 62\tnp.linalg.norm(S)=19122.874164581975\n",
      "i= 63\tnp.linalg.norm(S)=18912.409563262652\n",
      "i= 64\tnp.linalg.norm(S)=18722.795129696919\n",
      "i= 65\tnp.linalg.norm(S)=18553.335781040769\n",
      "i= 66\tnp.linalg.norm(S)=18362.608839465280\n",
      "i= 67\tnp.linalg.norm(S)=18192.291121404232\n",
      "i= 68\tnp.linalg.norm(S)=17990.216951263734\n",
      "i= 69\tnp.linalg.norm(S)=17803.736984435967\n",
      "i= 70\tnp.linalg.norm(S)=17621.535529675399\n",
      "i= 71\tnp.linalg.norm(S)=17469.967170505275\n",
      "i= 72\tnp.linalg.norm(S)=17298.121601376548\n",
      "i= 73\tnp.linalg.norm(S)=17099.355882939912\n",
      "i= 74\tnp.linalg.norm(S)=16936.687780131044\n",
      "i= 75\tnp.linalg.norm(S)=16767.809868216824\n",
      "i= 76\tnp.linalg.norm(S)=16620.841095601423\n",
      "i= 77\tnp.linalg.norm(S)=16448.548465256572\n",
      "i= 78\tnp.linalg.norm(S)=16292.011999719572\n",
      "i= 79\tnp.linalg.norm(S)=16164.044048827664\n",
      "i= 80\tnp.linalg.norm(S)=16000.906344597328\n",
      "i= 81\tnp.linalg.norm(S)=15863.467339104795\n",
      "i= 82\tnp.linalg.norm(S)=15728.698594963151\n",
      "i= 83\tnp.linalg.norm(S)=15586.052124809627\n",
      "i= 84\tnp.linalg.norm(S)=15448.347561721381\n",
      "i= 85\tnp.linalg.norm(S)=15305.274930070660\n",
      "i= 86\tnp.linalg.norm(S)=15188.325954600497\n",
      "i= 87\tnp.linalg.norm(S)=15061.564868282479\n",
      "i= 88\tnp.linalg.norm(S)=14924.834303617186\n",
      "i= 89\tnp.linalg.norm(S)=14778.115517591714\n",
      "i= 90\tnp.linalg.norm(S)=14650.075452573552\n",
      "i= 91\tnp.linalg.norm(S)=14510.548495889514\n",
      "i= 92\tnp.linalg.norm(S)=14399.569190010721\n",
      "i= 93\tnp.linalg.norm(S)=14304.556141630423\n",
      "i= 94\tnp.linalg.norm(S)=14183.484310131154\n",
      "i= 95\tnp.linalg.norm(S)=14067.078634427467\n",
      "i= 96\tnp.linalg.norm(S)=13949.822730988215\n",
      "i= 97\tnp.linalg.norm(S)=13837.866046655674\n",
      "i= 98\tnp.linalg.norm(S)=13730.022012774463\n",
      "i= 99\tnp.linalg.norm(S)=13609.745497760714\n"
     ]
    }
   ],
   "source": [
    "bg.fit(X_train, y_train)"
   ],
   "metadata": {
    "collapsed": false,
    "ExecuteTime": {
     "end_time": "2023-11-28T11:57:03.716695Z",
     "start_time": "2023-11-28T11:54:31.836021300Z"
    }
   },
   "id": "4f8375e58e2176e7"
  },
  {
   "cell_type": "code",
   "execution_count": 27,
   "outputs": [
    {
     "data": {
      "text/plain": "(2500,)"
     },
     "execution_count": 27,
     "metadata": {},
     "output_type": "execute_result"
    }
   ],
   "source": [
    "y_pred_bg = bg.predict(X_test)\n",
    "y_pred_bg.shape"
   ],
   "metadata": {
    "collapsed": false,
    "ExecuteTime": {
     "end_time": "2023-11-28T11:59:08.050210500Z",
     "start_time": "2023-11-28T11:59:07.956683900Z"
    }
   },
   "id": "ca673b7af686d02d"
  },
  {
   "cell_type": "code",
   "execution_count": 28,
   "outputs": [
    {
     "data": {
      "text/plain": "112970.3084768235"
     },
     "execution_count": 28,
     "metadata": {},
     "output_type": "execute_result"
    }
   ],
   "source": [
    "mean_squared_error(y_true=y_test, y_pred=y_pred_bg)"
   ],
   "metadata": {
    "collapsed": false,
    "ExecuteTime": {
     "end_time": "2023-11-28T11:59:09.288976400Z",
     "start_time": "2023-11-28T11:59:09.257506500Z"
    }
   },
   "id": "66ef460c9a1a1494"
  },
  {
   "cell_type": "code",
   "execution_count": 16,
   "outputs": [
    {
     "data": {
      "text/plain": "RandomForestRegressor(n_estimators=250, n_jobs=-1, random_state=42)",
      "text/html": "<style>#sk-container-id-2 {color: black;}#sk-container-id-2 pre{padding: 0;}#sk-container-id-2 div.sk-toggleable {background-color: white;}#sk-container-id-2 label.sk-toggleable__label {cursor: pointer;display: block;width: 100%;margin-bottom: 0;padding: 0.3em;box-sizing: border-box;text-align: center;}#sk-container-id-2 label.sk-toggleable__label-arrow:before {content: \"▸\";float: left;margin-right: 0.25em;color: #696969;}#sk-container-id-2 label.sk-toggleable__label-arrow:hover:before {color: black;}#sk-container-id-2 div.sk-estimator:hover label.sk-toggleable__label-arrow:before {color: black;}#sk-container-id-2 div.sk-toggleable__content {max-height: 0;max-width: 0;overflow: hidden;text-align: left;background-color: #f0f8ff;}#sk-container-id-2 div.sk-toggleable__content pre {margin: 0.2em;color: black;border-radius: 0.25em;background-color: #f0f8ff;}#sk-container-id-2 input.sk-toggleable__control:checked~div.sk-toggleable__content {max-height: 200px;max-width: 100%;overflow: auto;}#sk-container-id-2 input.sk-toggleable__control:checked~label.sk-toggleable__label-arrow:before {content: \"▾\";}#sk-container-id-2 div.sk-estimator input.sk-toggleable__control:checked~label.sk-toggleable__label {background-color: #d4ebff;}#sk-container-id-2 div.sk-label input.sk-toggleable__control:checked~label.sk-toggleable__label {background-color: #d4ebff;}#sk-container-id-2 input.sk-hidden--visually {border: 0;clip: rect(1px 1px 1px 1px);clip: rect(1px, 1px, 1px, 1px);height: 1px;margin: -1px;overflow: hidden;padding: 0;position: absolute;width: 1px;}#sk-container-id-2 div.sk-estimator {font-family: monospace;background-color: #f0f8ff;border: 1px dotted black;border-radius: 0.25em;box-sizing: border-box;margin-bottom: 0.5em;}#sk-container-id-2 div.sk-estimator:hover {background-color: #d4ebff;}#sk-container-id-2 div.sk-parallel-item::after {content: \"\";width: 100%;border-bottom: 1px solid gray;flex-grow: 1;}#sk-container-id-2 div.sk-label:hover label.sk-toggleable__label {background-color: #d4ebff;}#sk-container-id-2 div.sk-serial::before {content: \"\";position: absolute;border-left: 1px solid gray;box-sizing: border-box;top: 0;bottom: 0;left: 50%;z-index: 0;}#sk-container-id-2 div.sk-serial {display: flex;flex-direction: column;align-items: center;background-color: white;padding-right: 0.2em;padding-left: 0.2em;position: relative;}#sk-container-id-2 div.sk-item {position: relative;z-index: 1;}#sk-container-id-2 div.sk-parallel {display: flex;align-items: stretch;justify-content: center;background-color: white;position: relative;}#sk-container-id-2 div.sk-item::before, #sk-container-id-2 div.sk-parallel-item::before {content: \"\";position: absolute;border-left: 1px solid gray;box-sizing: border-box;top: 0;bottom: 0;left: 50%;z-index: -1;}#sk-container-id-2 div.sk-parallel-item {display: flex;flex-direction: column;z-index: 1;position: relative;background-color: white;}#sk-container-id-2 div.sk-parallel-item:first-child::after {align-self: flex-end;width: 50%;}#sk-container-id-2 div.sk-parallel-item:last-child::after {align-self: flex-start;width: 50%;}#sk-container-id-2 div.sk-parallel-item:only-child::after {width: 0;}#sk-container-id-2 div.sk-dashed-wrapped {border: 1px dashed gray;margin: 0 0.4em 0.5em 0.4em;box-sizing: border-box;padding-bottom: 0.4em;background-color: white;}#sk-container-id-2 div.sk-label label {font-family: monospace;font-weight: bold;display: inline-block;line-height: 1.2em;}#sk-container-id-2 div.sk-label-container {text-align: center;}#sk-container-id-2 div.sk-container {/* jupyter's `normalize.less` sets `[hidden] { display: none; }` but bootstrap.min.css set `[hidden] { display: none !important; }` so we also need the `!important` here to be able to override the default hidden behavior on the sphinx rendered scikit-learn.org. See: https://github.com/scikit-learn/scikit-learn/issues/21755 */display: inline-block !important;position: relative;}#sk-container-id-2 div.sk-text-repr-fallback {display: none;}</style><div id=\"sk-container-id-2\" class=\"sk-top-container\"><div class=\"sk-text-repr-fallback\"><pre>RandomForestRegressor(n_estimators=250, n_jobs=-1, random_state=42)</pre><b>In a Jupyter environment, please rerun this cell to show the HTML representation or trust the notebook. <br />On GitHub, the HTML representation is unable to render, please try loading this page with nbviewer.org.</b></div><div class=\"sk-container\" hidden><div class=\"sk-item\"><div class=\"sk-estimator sk-toggleable\"><input class=\"sk-toggleable__control sk-hidden--visually\" id=\"sk-estimator-id-2\" type=\"checkbox\" checked><label for=\"sk-estimator-id-2\" class=\"sk-toggleable__label sk-toggleable__label-arrow\">RandomForestRegressor</label><div class=\"sk-toggleable__content\"><pre>RandomForestRegressor(n_estimators=250, n_jobs=-1, random_state=42)</pre></div></div></div></div></div>"
     },
     "execution_count": 16,
     "metadata": {},
     "output_type": "execute_result"
    }
   ],
   "source": [
    "rf_sk = RandomForestRegressor(\n",
    "    n_estimators=250,\n",
    "    random_state=42,\n",
    "    n_jobs=-1\n",
    ")\n",
    "\n",
    "rf_sk.fit(X_train, y_train)"
   ],
   "metadata": {
    "collapsed": false,
    "ExecuteTime": {
     "end_time": "2023-11-28T11:45:40.277503100Z",
     "start_time": "2023-11-28T11:43:37.794177100Z"
    }
   },
   "id": "d008c71c0688b3fc"
  },
  {
   "cell_type": "code",
   "execution_count": 17,
   "outputs": [
    {
     "data": {
      "text/plain": "144683.0960984312"
     },
     "execution_count": 17,
     "metadata": {},
     "output_type": "execute_result"
    }
   ],
   "source": [
    "y_pred_sk = rf_sk.predict(X_test)\n",
    "mean_squared_error(y_true=y_test, y_pred=y_pred_sk)"
   ],
   "metadata": {
    "collapsed": false,
    "ExecuteTime": {
     "end_time": "2023-11-28T11:45:52.784967900Z",
     "start_time": "2023-11-28T11:45:52.656935Z"
    }
   },
   "id": "9efa63063c7d3011"
  },
  {
   "cell_type": "code",
   "execution_count": 98,
   "outputs": [
    {
     "data": {
      "text/plain": "GradientBoostingRegressor(criterion='squared_error', n_estimators=2500,\n                          random_state=42)",
      "text/html": "<style>#sk-container-id-11 {color: black;}#sk-container-id-11 pre{padding: 0;}#sk-container-id-11 div.sk-toggleable {background-color: white;}#sk-container-id-11 label.sk-toggleable__label {cursor: pointer;display: block;width: 100%;margin-bottom: 0;padding: 0.3em;box-sizing: border-box;text-align: center;}#sk-container-id-11 label.sk-toggleable__label-arrow:before {content: \"▸\";float: left;margin-right: 0.25em;color: #696969;}#sk-container-id-11 label.sk-toggleable__label-arrow:hover:before {color: black;}#sk-container-id-11 div.sk-estimator:hover label.sk-toggleable__label-arrow:before {color: black;}#sk-container-id-11 div.sk-toggleable__content {max-height: 0;max-width: 0;overflow: hidden;text-align: left;background-color: #f0f8ff;}#sk-container-id-11 div.sk-toggleable__content pre {margin: 0.2em;color: black;border-radius: 0.25em;background-color: #f0f8ff;}#sk-container-id-11 input.sk-toggleable__control:checked~div.sk-toggleable__content {max-height: 200px;max-width: 100%;overflow: auto;}#sk-container-id-11 input.sk-toggleable__control:checked~label.sk-toggleable__label-arrow:before {content: \"▾\";}#sk-container-id-11 div.sk-estimator input.sk-toggleable__control:checked~label.sk-toggleable__label {background-color: #d4ebff;}#sk-container-id-11 div.sk-label input.sk-toggleable__control:checked~label.sk-toggleable__label {background-color: #d4ebff;}#sk-container-id-11 input.sk-hidden--visually {border: 0;clip: rect(1px 1px 1px 1px);clip: rect(1px, 1px, 1px, 1px);height: 1px;margin: -1px;overflow: hidden;padding: 0;position: absolute;width: 1px;}#sk-container-id-11 div.sk-estimator {font-family: monospace;background-color: #f0f8ff;border: 1px dotted black;border-radius: 0.25em;box-sizing: border-box;margin-bottom: 0.5em;}#sk-container-id-11 div.sk-estimator:hover {background-color: #d4ebff;}#sk-container-id-11 div.sk-parallel-item::after {content: \"\";width: 100%;border-bottom: 1px solid gray;flex-grow: 1;}#sk-container-id-11 div.sk-label:hover label.sk-toggleable__label {background-color: #d4ebff;}#sk-container-id-11 div.sk-serial::before {content: \"\";position: absolute;border-left: 1px solid gray;box-sizing: border-box;top: 0;bottom: 0;left: 50%;z-index: 0;}#sk-container-id-11 div.sk-serial {display: flex;flex-direction: column;align-items: center;background-color: white;padding-right: 0.2em;padding-left: 0.2em;position: relative;}#sk-container-id-11 div.sk-item {position: relative;z-index: 1;}#sk-container-id-11 div.sk-parallel {display: flex;align-items: stretch;justify-content: center;background-color: white;position: relative;}#sk-container-id-11 div.sk-item::before, #sk-container-id-11 div.sk-parallel-item::before {content: \"\";position: absolute;border-left: 1px solid gray;box-sizing: border-box;top: 0;bottom: 0;left: 50%;z-index: -1;}#sk-container-id-11 div.sk-parallel-item {display: flex;flex-direction: column;z-index: 1;position: relative;background-color: white;}#sk-container-id-11 div.sk-parallel-item:first-child::after {align-self: flex-end;width: 50%;}#sk-container-id-11 div.sk-parallel-item:last-child::after {align-self: flex-start;width: 50%;}#sk-container-id-11 div.sk-parallel-item:only-child::after {width: 0;}#sk-container-id-11 div.sk-dashed-wrapped {border: 1px dashed gray;margin: 0 0.4em 0.5em 0.4em;box-sizing: border-box;padding-bottom: 0.4em;background-color: white;}#sk-container-id-11 div.sk-label label {font-family: monospace;font-weight: bold;display: inline-block;line-height: 1.2em;}#sk-container-id-11 div.sk-label-container {text-align: center;}#sk-container-id-11 div.sk-container {/* jupyter's `normalize.less` sets `[hidden] { display: none; }` but bootstrap.min.css set `[hidden] { display: none !important; }` so we also need the `!important` here to be able to override the default hidden behavior on the sphinx rendered scikit-learn.org. See: https://github.com/scikit-learn/scikit-learn/issues/21755 */display: inline-block !important;position: relative;}#sk-container-id-11 div.sk-text-repr-fallback {display: none;}</style><div id=\"sk-container-id-11\" class=\"sk-top-container\"><div class=\"sk-text-repr-fallback\"><pre>GradientBoostingRegressor(criterion=&#x27;squared_error&#x27;, n_estimators=2500,\n                          random_state=42)</pre><b>In a Jupyter environment, please rerun this cell to show the HTML representation or trust the notebook. <br />On GitHub, the HTML representation is unable to render, please try loading this page with nbviewer.org.</b></div><div class=\"sk-container\" hidden><div class=\"sk-item\"><div class=\"sk-estimator sk-toggleable\"><input class=\"sk-toggleable__control sk-hidden--visually\" id=\"sk-estimator-id-11\" type=\"checkbox\" checked><label for=\"sk-estimator-id-11\" class=\"sk-toggleable__label sk-toggleable__label-arrow\">GradientBoostingRegressor</label><div class=\"sk-toggleable__content\"><pre>GradientBoostingRegressor(criterion=&#x27;squared_error&#x27;, n_estimators=2500,\n                          random_state=42)</pre></div></div></div></div></div>"
     },
     "execution_count": 98,
     "metadata": {},
     "output_type": "execute_result"
    }
   ],
   "source": [
    "gb_sk = GradientBoostingRegressor(\n",
    "    n_estimators=2_500,\n",
    "    criterion='squared_error',\n",
    "    random_state=42,\n",
    ")\n",
    "\n",
    "gb_sk.fit(X_train, y_train)"
   ],
   "metadata": {
    "collapsed": false,
    "ExecuteTime": {
     "end_time": "2023-11-27T20:43:25.027819291Z",
     "start_time": "2023-11-27T20:33:08.023706219Z"
    }
   },
   "id": "3a9c017bbd61426d"
  },
  {
   "cell_type": "code",
   "execution_count": 99,
   "outputs": [
    {
     "data": {
      "text/plain": "21381.36246273232"
     },
     "execution_count": 99,
     "metadata": {},
     "output_type": "execute_result"
    }
   ],
   "source": [
    "y_pred_gb_sk = gb_sk.predict(X_test)\n",
    "mean_squared_error(y_true=y_test, y_pred=y_pred_gb_sk)"
   ],
   "metadata": {
    "collapsed": false,
    "ExecuteTime": {
     "end_time": "2023-11-27T20:43:25.046453673Z",
     "start_time": "2023-11-27T20:43:25.027550611Z"
    }
   },
   "id": "bcfe5a6362546350"
  },
  {
   "cell_type": "code",
   "execution_count": 100,
   "outputs": [],
   "source": [
    "ridge = Ridge(alpha=0.5)\n",
    "ridge.fit(X_train, y_train)\n",
    "\n",
    "y_pred_ridge = ridge.predict(X_test)"
   ],
   "metadata": {
    "collapsed": false,
    "ExecuteTime": {
     "end_time": "2023-11-27T20:43:25.085137253Z",
     "start_time": "2023-11-27T20:43:25.048095062Z"
    }
   },
   "id": "f6a34c4fb3900543"
  },
  {
   "cell_type": "code",
   "execution_count": 101,
   "outputs": [
    {
     "data": {
      "text/plain": "0.000627370904869402"
     },
     "execution_count": 101,
     "metadata": {},
     "output_type": "execute_result"
    }
   ],
   "source": [
    "mean_squared_error(y_true=y_test, y_pred=y_pred_ridge)"
   ],
   "metadata": {
    "collapsed": false,
    "ExecuteTime": {
     "end_time": "2023-11-27T20:43:25.094709287Z",
     "start_time": "2023-11-27T20:43:25.086278137Z"
    }
   },
   "id": "a09f089b8def79a8"
  },
  {
   "cell_type": "code",
   "execution_count": null,
   "outputs": [],
   "source": [],
   "metadata": {
    "collapsed": false
   },
   "id": "d2ea62caa5519e5"
  }
 ],
 "metadata": {
  "kernelspec": {
   "display_name": "Python 3",
   "language": "python",
   "name": "python3"
  },
  "language_info": {
   "codemirror_mode": {
    "name": "ipython",
    "version": 2
   },
   "file_extension": ".py",
   "mimetype": "text/x-python",
   "name": "python",
   "nbconvert_exporter": "python",
   "pygments_lexer": "ipython2",
   "version": "2.7.6"
  }
 },
 "nbformat": 4,
 "nbformat_minor": 5
}
